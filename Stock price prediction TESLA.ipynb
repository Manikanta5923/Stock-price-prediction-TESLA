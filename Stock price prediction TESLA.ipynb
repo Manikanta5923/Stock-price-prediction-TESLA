{
 "cells": [
  {
   "cell_type": "code",
   "execution_count": 1,
   "id": "730f5adf",
   "metadata": {},
   "outputs": [],
   "source": [
    "import yfinance as yf"
   ]
  },
  {
   "cell_type": "code",
   "execution_count": 2,
   "id": "98b95f34",
   "metadata": {},
   "outputs": [],
   "source": [
    "from datetime import datetime\n",
    "end = datetime.now()\n",
    "start = datetime(end.year-10, end.month, end.day)"
   ]
  },
  {
   "cell_type": "code",
   "execution_count": 3,
   "id": "a8b2336e",
   "metadata": {
    "scrolled": true
   },
   "outputs": [
    {
     "name": "stderr",
     "output_type": "stream",
     "text": [
      "[*********************100%%**********************]  1 of 1 completed\n"
     ]
    }
   ],
   "source": [
    "stock = \"TSLA\"\n",
    "tesla = yf.download(stock, start, end)"
   ]
  },
  {
   "cell_type": "code",
   "execution_count": 4,
   "id": "ddf5fa91",
   "metadata": {
    "scrolled": true
   },
   "outputs": [
    {
     "data": {
      "text/html": [
       "<div>\n",
       "<style scoped>\n",
       "    .dataframe tbody tr th:only-of-type {\n",
       "        vertical-align: middle;\n",
       "    }\n",
       "\n",
       "    .dataframe tbody tr th {\n",
       "        vertical-align: top;\n",
       "    }\n",
       "\n",
       "    .dataframe thead th {\n",
       "        text-align: right;\n",
       "    }\n",
       "</style>\n",
       "<table border=\"1\" class=\"dataframe\">\n",
       "  <thead>\n",
       "    <tr style=\"text-align: right;\">\n",
       "      <th></th>\n",
       "      <th>Open</th>\n",
       "      <th>High</th>\n",
       "      <th>Low</th>\n",
       "      <th>Close</th>\n",
       "      <th>Adj Close</th>\n",
       "      <th>Volume</th>\n",
       "    </tr>\n",
       "    <tr>\n",
       "      <th>Date</th>\n",
       "      <th></th>\n",
       "      <th></th>\n",
       "      <th></th>\n",
       "      <th></th>\n",
       "      <th></th>\n",
       "      <th></th>\n",
       "    </tr>\n",
       "  </thead>\n",
       "  <tbody>\n",
       "    <tr>\n",
       "      <th>2014-06-17</th>\n",
       "      <td>14.940667</td>\n",
       "      <td>15.702667</td>\n",
       "      <td>14.856667</td>\n",
       "      <td>15.444667</td>\n",
       "      <td>15.444667</td>\n",
       "      <td>199573500</td>\n",
       "    </tr>\n",
       "    <tr>\n",
       "      <th>2014-06-18</th>\n",
       "      <td>15.433333</td>\n",
       "      <td>15.447333</td>\n",
       "      <td>15.074667</td>\n",
       "      <td>15.141333</td>\n",
       "      <td>15.141333</td>\n",
       "      <td>104103000</td>\n",
       "    </tr>\n",
       "    <tr>\n",
       "      <th>2014-06-19</th>\n",
       "      <td>15.258667</td>\n",
       "      <td>15.687333</td>\n",
       "      <td>15.133333</td>\n",
       "      <td>15.186000</td>\n",
       "      <td>15.186000</td>\n",
       "      <td>131896500</td>\n",
       "    </tr>\n",
       "    <tr>\n",
       "      <th>2014-06-20</th>\n",
       "      <td>15.234667</td>\n",
       "      <td>15.419333</td>\n",
       "      <td>15.080000</td>\n",
       "      <td>15.306000</td>\n",
       "      <td>15.306000</td>\n",
       "      <td>73558500</td>\n",
       "    </tr>\n",
       "    <tr>\n",
       "      <th>2014-06-23</th>\n",
       "      <td>15.300667</td>\n",
       "      <td>15.932667</td>\n",
       "      <td>15.214667</td>\n",
       "      <td>15.814667</td>\n",
       "      <td>15.814667</td>\n",
       "      <td>116866500</td>\n",
       "    </tr>\n",
       "  </tbody>\n",
       "</table>\n",
       "</div>"
      ],
      "text/plain": [
       "                 Open       High        Low      Close  Adj Close     Volume\n",
       "Date                                                                        \n",
       "2014-06-17  14.940667  15.702667  14.856667  15.444667  15.444667  199573500\n",
       "2014-06-18  15.433333  15.447333  15.074667  15.141333  15.141333  104103000\n",
       "2014-06-19  15.258667  15.687333  15.133333  15.186000  15.186000  131896500\n",
       "2014-06-20  15.234667  15.419333  15.080000  15.306000  15.306000   73558500\n",
       "2014-06-23  15.300667  15.932667  15.214667  15.814667  15.814667  116866500"
      ]
     },
     "execution_count": 4,
     "metadata": {},
     "output_type": "execute_result"
    }
   ],
   "source": [
    "tesla.head()"
   ]
  },
  {
   "cell_type": "code",
   "execution_count": 5,
   "id": "0301c909",
   "metadata": {},
   "outputs": [
    {
     "data": {
      "text/html": [
       "<div>\n",
       "<style scoped>\n",
       "    .dataframe tbody tr th:only-of-type {\n",
       "        vertical-align: middle;\n",
       "    }\n",
       "\n",
       "    .dataframe tbody tr th {\n",
       "        vertical-align: top;\n",
       "    }\n",
       "\n",
       "    .dataframe thead th {\n",
       "        text-align: right;\n",
       "    }\n",
       "</style>\n",
       "<table border=\"1\" class=\"dataframe\">\n",
       "  <thead>\n",
       "    <tr style=\"text-align: right;\">\n",
       "      <th></th>\n",
       "      <th>Open</th>\n",
       "      <th>High</th>\n",
       "      <th>Low</th>\n",
       "      <th>Close</th>\n",
       "      <th>Adj Close</th>\n",
       "      <th>Volume</th>\n",
       "    </tr>\n",
       "    <tr>\n",
       "      <th>Date</th>\n",
       "      <th></th>\n",
       "      <th></th>\n",
       "      <th></th>\n",
       "      <th></th>\n",
       "      <th></th>\n",
       "      <th></th>\n",
       "    </tr>\n",
       "  </thead>\n",
       "  <tbody>\n",
       "    <tr>\n",
       "      <th>2024-06-10</th>\n",
       "      <td>176.059998</td>\n",
       "      <td>178.570007</td>\n",
       "      <td>173.169998</td>\n",
       "      <td>173.789993</td>\n",
       "      <td>173.789993</td>\n",
       "      <td>50869700</td>\n",
       "    </tr>\n",
       "    <tr>\n",
       "      <th>2024-06-11</th>\n",
       "      <td>173.919998</td>\n",
       "      <td>174.750000</td>\n",
       "      <td>167.410004</td>\n",
       "      <td>170.660004</td>\n",
       "      <td>170.660004</td>\n",
       "      <td>64761900</td>\n",
       "    </tr>\n",
       "    <tr>\n",
       "      <th>2024-06-12</th>\n",
       "      <td>171.119995</td>\n",
       "      <td>180.550003</td>\n",
       "      <td>169.800003</td>\n",
       "      <td>177.289993</td>\n",
       "      <td>177.289993</td>\n",
       "      <td>90389400</td>\n",
       "    </tr>\n",
       "    <tr>\n",
       "      <th>2024-06-13</th>\n",
       "      <td>188.389999</td>\n",
       "      <td>191.080002</td>\n",
       "      <td>181.229996</td>\n",
       "      <td>182.470001</td>\n",
       "      <td>182.470001</td>\n",
       "      <td>118984100</td>\n",
       "    </tr>\n",
       "    <tr>\n",
       "      <th>2024-06-14</th>\n",
       "      <td>185.800003</td>\n",
       "      <td>186.000000</td>\n",
       "      <td>176.919998</td>\n",
       "      <td>178.009995</td>\n",
       "      <td>178.009995</td>\n",
       "      <td>81361700</td>\n",
       "    </tr>\n",
       "  </tbody>\n",
       "</table>\n",
       "</div>"
      ],
      "text/plain": [
       "                  Open        High         Low       Close   Adj Close  \\\n",
       "Date                                                                     \n",
       "2024-06-10  176.059998  178.570007  173.169998  173.789993  173.789993   \n",
       "2024-06-11  173.919998  174.750000  167.410004  170.660004  170.660004   \n",
       "2024-06-12  171.119995  180.550003  169.800003  177.289993  177.289993   \n",
       "2024-06-13  188.389999  191.080002  181.229996  182.470001  182.470001   \n",
       "2024-06-14  185.800003  186.000000  176.919998  178.009995  178.009995   \n",
       "\n",
       "               Volume  \n",
       "Date                   \n",
       "2024-06-10   50869700  \n",
       "2024-06-11   64761900  \n",
       "2024-06-12   90389400  \n",
       "2024-06-13  118984100  \n",
       "2024-06-14   81361700  "
      ]
     },
     "execution_count": 5,
     "metadata": {},
     "output_type": "execute_result"
    }
   ],
   "source": [
    "tesla.tail()"
   ]
  },
  {
   "cell_type": "code",
   "execution_count": 6,
   "id": "815aca36",
   "metadata": {},
   "outputs": [
    {
     "data": {
      "text/plain": [
       "(2517, 6)"
      ]
     },
     "execution_count": 6,
     "metadata": {},
     "output_type": "execute_result"
    }
   ],
   "source": [
    "tesla.shape"
   ]
  },
  {
   "cell_type": "code",
   "execution_count": 7,
   "id": "aab130f2",
   "metadata": {},
   "outputs": [
    {
     "name": "stdout",
     "output_type": "stream",
     "text": [
      "<class 'pandas.core.frame.DataFrame'>\n",
      "DatetimeIndex: 2517 entries, 2014-06-17 to 2024-06-14\n",
      "Data columns (total 6 columns):\n",
      " #   Column     Non-Null Count  Dtype  \n",
      "---  ------     --------------  -----  \n",
      " 0   Open       2517 non-null   float64\n",
      " 1   High       2517 non-null   float64\n",
      " 2   Low        2517 non-null   float64\n",
      " 3   Close      2517 non-null   float64\n",
      " 4   Adj Close  2517 non-null   float64\n",
      " 5   Volume     2517 non-null   int64  \n",
      "dtypes: float64(5), int64(1)\n",
      "memory usage: 137.6 KB\n"
     ]
    }
   ],
   "source": [
    "tesla.info()"
   ]
  },
  {
   "cell_type": "code",
   "execution_count": 8,
   "id": "61dd1000",
   "metadata": {},
   "outputs": [
    {
     "data": {
      "text/plain": [
       "Open         0\n",
       "High         0\n",
       "Low          0\n",
       "Close        0\n",
       "Adj Close    0\n",
       "Volume       0\n",
       "dtype: int64"
      ]
     },
     "execution_count": 8,
     "metadata": {},
     "output_type": "execute_result"
    }
   ],
   "source": [
    "tesla.isna().sum()"
   ]
  },
  {
   "cell_type": "code",
   "execution_count": 9,
   "id": "1b07575d",
   "metadata": {},
   "outputs": [],
   "source": [
    "tesla1=tesla.reset_index()[\"Close\"]"
   ]
  },
  {
   "cell_type": "code",
   "execution_count": 10,
   "id": "62458cd2",
   "metadata": {},
   "outputs": [
    {
     "data": {
      "text/plain": [
       "(2517,)"
      ]
     },
     "execution_count": 10,
     "metadata": {},
     "output_type": "execute_result"
    }
   ],
   "source": [
    "tesla1.shape"
   ]
  },
  {
   "cell_type": "code",
   "execution_count": 11,
   "id": "98b5e18d",
   "metadata": {},
   "outputs": [],
   "source": [
    "import matplotlib.pyplot as plt\n",
    "%matplotlib inline"
   ]
  },
  {
   "cell_type": "code",
   "execution_count": 12,
   "id": "508263bb",
   "metadata": {},
   "outputs": [
    {
     "data": {
      "text/plain": [
       "<Axes: xlabel='Date'>"
      ]
     },
     "execution_count": 12,
     "metadata": {},
     "output_type": "execute_result"
    },
    {
     "data": {
      "image/png": "[encoded data removed]",
      "text/plain": [
       "<Figure size 1500x500 with 1 Axes>"
      ]
     },
     "metadata": {},
     "output_type": "display_data"
    }
   ],
   "source": [
    "plt.figure(figsize = (15,5))\n",
    "tesla['Close'].plot()"
   ]
  },
  {
   "cell_type": "code",
   "execution_count": 13,
   "id": "92b70db4",
   "metadata": {},
   "outputs": [],
   "source": [
    "import numpy as np"
   ]
  },
  {
   "cell_type": "code",
   "execution_count": 14,
   "id": "9f88fd71",
   "metadata": {},
   "outputs": [],
   "source": [
    "from sklearn.preprocessing import MinMaxScaler\n",
    "scaler=MinMaxScaler(feature_range=(0,1))\n",
    "tesla1=scaler.fit_transform(np.array(tesla1).reshape(-1,1))"
   ]
  },
  {
   "cell_type": "code",
   "execution_count": 15,
   "id": "7acddb39",
   "metadata": {},
   "outputs": [
    {
     "data": {
      "text/plain": [
       "array([[0.01465231],\n",
       "       [0.01389471],\n",
       "       [0.01400627],\n",
       "       ...,\n",
       "       [0.41886949],\n",
       "       [0.43180683],\n",
       "       [0.42066773]])"
      ]
     },
     "execution_count": 15,
     "metadata": {},
     "output_type": "execute_result"
    }
   ],
   "source": [
    "tesla1"
   ]
  },
  {
   "cell_type": "code",
   "execution_count": 16,
   "id": "dee617bc",
   "metadata": {},
   "outputs": [],
   "source": [
    "#splitting data into train and test\n",
    "training_size = int (len(tesla)*0.65)\n",
    "test_size = len(tesla1)-training_size\n",
    "train_data,test_data=tesla1[0:training_size,:],tesla1[training_size:len(tesla1),:1]"
   ]
  },
  {
   "cell_type": "code",
   "execution_count": 17,
   "id": "f83689b2",
   "metadata": {},
   "outputs": [
    {
     "data": {
      "text/plain": [
       "(1636, 881)"
      ]
     },
     "execution_count": 17,
     "metadata": {},
     "output_type": "execute_result"
    }
   ],
   "source": [
    "training_size,test_size"
   ]
  },
  {
   "cell_type": "code",
   "execution_count": 18,
   "id": "2b579035",
   "metadata": {},
   "outputs": [],
   "source": [
    "import numpy as np\n",
    "\n",
    "def create_dataset(dataset, time_step=1):\n",
    "    datax, datay = [], []\n",
    "\n",
    "    for i in range(len(dataset) - time_step - 1):\n",
    "        a = dataset[i: (i + time_step), 0]\n",
    "\n",
    "        datax.append(a)\n",
    "        datay.append(dataset[i + time_step, 0])\n",
    "\n",
    "    return np.array(datax), np.array(datay)\n",
    "\n",
    "time_step = 100\n",
    "X_train, Y_train = create_dataset(train_data, time_step)\n",
    "\n",
    "X_test, Y_test = create_dataset(test_data, time_step)\n"
   ]
  },
  {
   "cell_type": "code",
   "execution_count": 19,
   "id": "e3b8fa1d",
   "metadata": {},
   "outputs": [
    {
     "name": "stdout",
     "output_type": "stream",
     "text": [
      "(1535, 100)\n",
      "(1535,)\n"
     ]
    },
    {
     "data": {
      "text/plain": [
       "(None, None)"
      ]
     },
     "execution_count": 19,
     "metadata": {},
     "output_type": "execute_result"
    }
   ],
   "source": [
    "print(X_train.shape),print(Y_train.shape)"
   ]
  },
  {
   "cell_type": "code",
   "execution_count": 20,
   "id": "f4ee1d00",
   "metadata": {},
   "outputs": [
    {
     "name": "stdout",
     "output_type": "stream",
     "text": [
      "(780, 100)\n",
      "(780,)\n"
     ]
    },
    {
     "data": {
      "text/plain": [
       "(None, None)"
      ]
     },
     "execution_count": 20,
     "metadata": {},
     "output_type": "execute_result"
    }
   ],
   "source": [
    "print(X_test.shape),print(Y_test.shape)"
   ]
  },
  {
   "cell_type": "code",
   "execution_count": 21,
   "id": "28447c52",
   "metadata": {},
   "outputs": [],
   "source": [
    "X_train = X_train.reshape(X_train.shape[0],X_train.shape[1],1)\n",
    "X_test = X_test.reshape(X_test.shape[0],X_test.shape[1],1)"
   ]
  },
  {
   "cell_type": "code",
   "execution_count": 22,
   "id": "08fca6c2",
   "metadata": {},
   "outputs": [],
   "source": [
    "#create LSTM model\n",
    "from tensorflow.keras.models import Sequential\n",
    "from tensorflow.keras.layers import Dense\n",
    "from tensorflow.keras.layers import LSTM"
   ]
  },
  {
   "cell_type": "code",
   "execution_count": 23,
   "id": "58de523c",
   "metadata": {},
   "outputs": [
    {
     "name": "stderr",
     "output_type": "stream",
     "text": [
      "C:\\Users\\manik\\anaconda3\\Lib\\site-packages\\keras\\src\\layers\\rnn\\rnn.py:204: UserWarning: Do not pass an `input_shape`/`input_dim` argument to a layer. When using Sequential models, prefer using an `Input(shape)` object as the first layer in the model instead.\n",
      "  super().__init__(**kwargs)\n"
     ]
    }
   ],
   "source": [
    "model=Sequential()\n",
    "model.add(LSTM(50,return_sequences = True,input_shape=(100,1)))\n",
    "model.add(LSTM(50,return_sequences = True))\n",
    "model.add(LSTM(50))\n",
    "model.add(Dense(1))\n",
    "model.compile(loss= \"mean_squared_error\",optimizer= \"adam\")"
   ]
  },
  {
   "cell_type": "code",
   "execution_count": 24,
   "id": "6869fb33",
   "metadata": {},
   "outputs": [
    {
     "data": {
      "text/html": [
       "<pre style=\"white-space:pre;overflow-x:auto;line-height:normal;font-family:Menlo,'DejaVu Sans Mono',consolas,'Courier New',monospace\"><span style=\"font-weight: bold\">Model: \"sequential\"</span>\n",
       "</pre>\n"
      ],
      "text/plain": [
       "\u001b[1mModel: \"sequential\"\u001b[0m\n"
      ]
     },
     "metadata": {},
     "output_type": "display_data"
    },
    {
     "data": {
      "text/html": [
       "<pre style=\"white-space:pre;overflow-x:auto;line-height:normal;font-family:Menlo,'DejaVu Sans Mono',consolas,'Courier New',monospace\">┏━━━━━━━━━━━━━━━━━━━━━━━━━━━━━━━━━┳━━━━━━━━━━━━━━━━━━━━━━━━┳━━━━━━━━━━━━━━━┓\n",
       "┃<span style=\"font-weight: bold\"> Layer (type)                    </span>┃<span style=\"font-weight: bold\"> Output Shape           </span>┃<span style=\"font-weight: bold\">       Param # </span>┃\n",
       "┡━━━━━━━━━━━━━━━━━━━━━━━━━━━━━━━━━╇━━━━━━━━━━━━━━━━━━━━━━━━╇━━━━━━━━━━━━━━━┩\n",
       "│ lstm (<span style=\"color: #0087ff; text-decoration-color: #0087ff\">LSTM</span>)                     │ (<span style=\"color: #00d7ff; text-decoration-color: #00d7ff\">None</span>, <span style=\"color: #00af00; text-decoration-color: #00af00\">100</span>, <span style=\"color: #00af00; text-decoration-color: #00af00\">50</span>)        │        <span style=\"color: #00af00; text-decoration-color: #00af00\">10,400</span> │\n",
       "├─────────────────────────────────┼────────────────────────┼───────────────┤\n",
       "│ lstm_1 (<span style=\"color: #0087ff; text-decoration-color: #0087ff\">LSTM</span>)                   │ (<span style=\"color: #00d7ff; text-decoration-color: #00d7ff\">None</span>, <span style=\"color: #00af00; text-decoration-color: #00af00\">100</span>, <span style=\"color: #00af00; text-decoration-color: #00af00\">50</span>)        │        <span style=\"color: #00af00; text-decoration-color: #00af00\">20,200</span> │\n",
       "├─────────────────────────────────┼────────────────────────┼───────────────┤\n",
       "│ lstm_2 (<span style=\"color: #0087ff; text-decoration-color: #0087ff\">LSTM</span>)                   │ (<span style=\"color: #00d7ff; text-decoration-color: #00d7ff\">None</span>, <span style=\"color: #00af00; text-decoration-color: #00af00\">50</span>)             │        <span style=\"color: #00af00; text-decoration-color: #00af00\">20,200</span> │\n",
       "├─────────────────────────────────┼────────────────────────┼───────────────┤\n",
       "│ dense (<span style=\"color: #0087ff; text-decoration-color: #0087ff\">Dense</span>)                   │ (<span style=\"color: #00d7ff; text-decoration-color: #00d7ff\">None</span>, <span style=\"color: #00af00; text-decoration-color: #00af00\">1</span>)              │            <span style=\"color: #00af00; text-decoration-color: #00af00\">51</span> │\n",
       "└─────────────────────────────────┴────────────────────────┴───────────────┘\n",
       "</pre>\n"
      ],
      "text/plain": [
       "┏━━━━━━━━━━━━━━━━━━━━━━━━━━━━━━━━━┳━━━━━━━━━━━━━━━━━━━━━━━━┳━━━━━━━━━━━━━━━┓\n",
       "┃\u001b[1m \u001b[0m\u001b[1mLayer (type)                   \u001b[0m\u001b[1m \u001b[0m┃\u001b[1m \u001b[0m\u001b[1mOutput Shape          \u001b[0m\u001b[1m \u001b[0m┃\u001b[1m \u001b[0m\u001b[1m      Param #\u001b[0m\u001b[1m \u001b[0m┃\n",
       "┡━━━━━━━━━━━━━━━━━━━━━━━━━━━━━━━━━╇━━━━━━━━━━━━━━━━━━━━━━━━╇━━━━━━━━━━━━━━━┩\n",
       "│ lstm (\u001b[38;5;33mLSTM\u001b[0m)                     │ (\u001b[38;5;45mNone\u001b[0m, \u001b[38;5;34m100\u001b[0m, \u001b[38;5;34m50\u001b[0m)        │        \u001b[38;5;34m10,400\u001b[0m │\n",
       "├─────────────────────────────────┼────────────────────────┼───────────────┤\n",
       "│ lstm_1 (\u001b[38;5;33mLSTM\u001b[0m)                   │ (\u001b[38;5;45mNone\u001b[0m, \u001b[38;5;34m100\u001b[0m, \u001b[38;5;34m50\u001b[0m)        │        \u001b[38;5;34m20,200\u001b[0m │\n",
       "├─────────────────────────────────┼────────────────────────┼───────────────┤\n",
       "│ lstm_2 (\u001b[38;5;33mLSTM\u001b[0m)                   │ (\u001b[38;5;45mNone\u001b[0m, \u001b[38;5;34m50\u001b[0m)             │        \u001b[38;5;34m20,200\u001b[0m │\n",
       "├─────────────────────────────────┼────────────────────────┼───────────────┤\n",
       "│ dense (\u001b[38;5;33mDense\u001b[0m)                   │ (\u001b[38;5;45mNone\u001b[0m, \u001b[38;5;34m1\u001b[0m)              │            \u001b[38;5;34m51\u001b[0m │\n",
       "└─────────────────────────────────┴────────────────────────┴───────────────┘\n"
      ]
     },
     "metadata": {},
     "output_type": "display_data"
    },
    {
     "data": {
      "text/html": [
       "<pre style=\"white-space:pre;overflow-x:auto;line-height:normal;font-family:Menlo,'DejaVu Sans Mono',consolas,'Courier New',monospace\"><span style=\"font-weight: bold\"> Total params: </span><span style=\"color: #00af00; text-decoration-color: #00af00\">50,851</span> (198.64 KB)\n",
       "</pre>\n"
      ],
      "text/plain": [
       "\u001b[1m Total params: \u001b[0m\u001b[38;5;34m50,851\u001b[0m (198.64 KB)\n"
      ]
     },
     "metadata": {},
     "output_type": "display_data"
    },
    {
     "data": {
      "text/html": [
       "<pre style=\"white-space:pre;overflow-x:auto;line-height:normal;font-family:Menlo,'DejaVu Sans Mono',consolas,'Courier New',monospace\"><span style=\"font-weight: bold\"> Trainable params: </span><span style=\"color: #00af00; text-decoration-color: #00af00\">50,851</span> (198.64 KB)\n",
       "</pre>\n"
      ],
      "text/plain": [
       "\u001b[1m Trainable params: \u001b[0m\u001b[38;5;34m50,851\u001b[0m (198.64 KB)\n"
      ]
     },
     "metadata": {},
     "output_type": "display_data"
    },
    {
     "data": {
      "text/html": [
       "<pre style=\"white-space:pre;overflow-x:auto;line-height:normal;font-family:Menlo,'DejaVu Sans Mono',consolas,'Courier New',monospace\"><span style=\"font-weight: bold\"> Non-trainable params: </span><span style=\"color: #00af00; text-decoration-color: #00af00\">0</span> (0.00 B)\n",
       "</pre>\n"
      ],
      "text/plain": [
       "\u001b[1m Non-trainable params: \u001b[0m\u001b[38;5;34m0\u001b[0m (0.00 B)\n"
      ]
     },
     "metadata": {},
     "output_type": "display_data"
    }
   ],
   "source": [
    "model.summary()"
   ]
  },
  {
   "cell_type": "code",
   "execution_count": 25,
   "id": "6256ffab",
   "metadata": {},
   "outputs": [
    {
     "name": "stdout",
     "output_type": "stream",
     "text": [
      "Epoch 1/100\n",
      "\u001b[1m24/24\u001b[0m \u001b[32m━━━━━━━━━━━━━━━━━━━━\u001b[0m\u001b[37m\u001b[0m \u001b[1m5s\u001b[0m 91ms/step - loss: 0.0036 - val_loss: 0.0053\n",
      "Epoch 2/100\n",
      "\u001b[1m24/24\u001b[0m \u001b[32m━━━━━━━━━━━━━━━━━━━━\u001b[0m\u001b[37m\u001b[0m \u001b[1m2s\u001b[0m 74ms/step - loss: 2.6408e-04 - val_loss: 0.0082\n",
      "Epoch 3/100\n",
      "\u001b[1m24/24\u001b[0m \u001b[32m━━━━━━━━━━━━━━━━━━━━\u001b[0m\u001b[37m\u001b[0m \u001b[1m2s\u001b[0m 68ms/step - loss: 2.7910e-04 - val_loss: 0.0053\n",
      "Epoch 4/100\n",
      "\u001b[1m24/24\u001b[0m \u001b[32m━━━━━━━━━━━━━━━━━━━━\u001b[0m\u001b[37m\u001b[0m \u001b[1m2s\u001b[0m 74ms/step - loss: 2.4339e-04 - val_loss: 0.0067\n",
      "Epoch 5/100\n",
      "\u001b[1m24/24\u001b[0m \u001b[32m━━━━━━━━━━━━━━━━━━━━\u001b[0m\u001b[37m\u001b[0m \u001b[1m2s\u001b[0m 72ms/step - loss: 1.9917e-04 - val_loss: 0.0081\n",
      "Epoch 6/100\n",
      "\u001b[1m24/24\u001b[0m \u001b[32m━━━━━━━━━━━━━━━━━━━━\u001b[0m\u001b[37m\u001b[0m \u001b[1m2s\u001b[0m 68ms/step - loss: 1.9194e-04 - val_loss: 0.0035\n",
      "Epoch 7/100\n",
      "\u001b[1m24/24\u001b[0m \u001b[32m━━━━━━━━━━━━━━━━━━━━\u001b[0m\u001b[37m\u001b[0m \u001b[1m2s\u001b[0m 69ms/step - loss: 1.9221e-04 - val_loss: 0.0032\n",
      "Epoch 8/100\n",
      "\u001b[1m24/24\u001b[0m \u001b[32m━━━━━━━━━━━━━━━━━━━━\u001b[0m\u001b[37m\u001b[0m \u001b[1m2s\u001b[0m 69ms/step - loss: 1.4072e-04 - val_loss: 0.0040\n",
      "Epoch 9/100\n",
      "\u001b[1m24/24\u001b[0m \u001b[32m━━━━━━━━━━━━━━━━━━━━\u001b[0m\u001b[37m\u001b[0m \u001b[1m2s\u001b[0m 70ms/step - loss: 1.4345e-04 - val_loss: 0.0025\n",
      "Epoch 10/100\n",
      "\u001b[1m24/24\u001b[0m \u001b[32m━━━━━━━━━━━━━━━━━━━━\u001b[0m\u001b[37m\u001b[0m \u001b[1m2s\u001b[0m 68ms/step - loss: 1.2957e-04 - val_loss: 0.0024\n",
      "Epoch 11/100\n",
      "\u001b[1m24/24\u001b[0m \u001b[32m━━━━━━━━━━━━━━━━━━━━\u001b[0m\u001b[37m\u001b[0m \u001b[1m3s\u001b[0m 107ms/step - loss: 1.4041e-04 - val_loss: 0.0022\n",
      "Epoch 12/100\n",
      "\u001b[1m24/24\u001b[0m \u001b[32m━━━━━━━━━━━━━━━━━━━━\u001b[0m\u001b[37m\u001b[0m \u001b[1m2s\u001b[0m 103ms/step - loss: 1.1574e-04 - val_loss: 0.0028\n",
      "Epoch 13/100\n",
      "\u001b[1m24/24\u001b[0m \u001b[32m━━━━━━━━━━━━━━━━━━━━\u001b[0m\u001b[37m\u001b[0m \u001b[1m2s\u001b[0m 103ms/step - loss: 1.5420e-04 - val_loss: 0.0022\n",
      "Epoch 14/100\n",
      "\u001b[1m24/24\u001b[0m \u001b[32m━━━━━━━━━━━━━━━━━━━━\u001b[0m\u001b[37m\u001b[0m \u001b[1m2s\u001b[0m 102ms/step - loss: 1.4836e-04 - val_loss: 0.0021\n",
      "Epoch 15/100\n",
      "\u001b[1m24/24\u001b[0m \u001b[32m━━━━━━━━━━━━━━━━━━━━\u001b[0m\u001b[37m\u001b[0m \u001b[1m3s\u001b[0m 110ms/step - loss: 1.0782e-04 - val_loss: 0.0022\n",
      "Epoch 16/100\n",
      "\u001b[1m24/24\u001b[0m \u001b[32m━━━━━━━━━━━━━━━━━━━━\u001b[0m\u001b[37m\u001b[0m \u001b[1m2s\u001b[0m 103ms/step - loss: 1.4854e-04 - val_loss: 0.0039\n",
      "Epoch 17/100\n",
      "\u001b[1m24/24\u001b[0m \u001b[32m━━━━━━━━━━━━━━━━━━━━\u001b[0m\u001b[37m\u001b[0m \u001b[1m2s\u001b[0m 102ms/step - loss: 1.1752e-04 - val_loss: 0.0021\n",
      "Epoch 18/100\n",
      "\u001b[1m24/24\u001b[0m \u001b[32m━━━━━━━━━━━━━━━━━━━━\u001b[0m\u001b[37m\u001b[0m \u001b[1m2s\u001b[0m 97ms/step - loss: 7.2986e-05 - val_loss: 0.0020\n",
      "Epoch 19/100\n",
      "\u001b[1m24/24\u001b[0m \u001b[32m━━━━━━━━━━━━━━━━━━━━\u001b[0m\u001b[37m\u001b[0m \u001b[1m3s\u001b[0m 109ms/step - loss: 8.1683e-05 - val_loss: 0.0021\n",
      "Epoch 20/100\n",
      "\u001b[1m24/24\u001b[0m \u001b[32m━━━━━━━━━━━━━━━━━━━━\u001b[0m\u001b[37m\u001b[0m \u001b[1m3s\u001b[0m 104ms/step - loss: 9.8102e-05 - val_loss: 0.0020\n",
      "Epoch 21/100\n",
      "\u001b[1m24/24\u001b[0m \u001b[32m━━━━━━━━━━━━━━━━━━━━\u001b[0m\u001b[37m\u001b[0m \u001b[1m3s\u001b[0m 105ms/step - loss: 7.7101e-05 - val_loss: 0.0025\n",
      "Epoch 22/100\n",
      "\u001b[1m24/24\u001b[0m \u001b[32m━━━━━━━━━━━━━━━━━━━━\u001b[0m\u001b[37m\u001b[0m \u001b[1m2s\u001b[0m 100ms/step - loss: 1.0292e-04 - val_loss: 0.0019\n",
      "Epoch 23/100\n",
      "\u001b[1m24/24\u001b[0m \u001b[32m━━━━━━━━━━━━━━━━━━━━\u001b[0m\u001b[37m\u001b[0m \u001b[1m3s\u001b[0m 106ms/step - loss: 9.0715e-05 - val_loss: 0.0022\n",
      "Epoch 24/100\n",
      "\u001b[1m24/24\u001b[0m \u001b[32m━━━━━━━━━━━━━━━━━━━━\u001b[0m\u001b[37m\u001b[0m \u001b[1m3s\u001b[0m 107ms/step - loss: 1.1352e-04 - val_loss: 0.0018\n",
      "Epoch 25/100\n",
      "\u001b[1m24/24\u001b[0m \u001b[32m━━━━━━━━━━━━━━━━━━━━\u001b[0m\u001b[37m\u001b[0m \u001b[1m2s\u001b[0m 102ms/step - loss: 9.4310e-05 - val_loss: 0.0019\n",
      "Epoch 26/100\n",
      "\u001b[1m24/24\u001b[0m \u001b[32m━━━━━━━━━━━━━━━━━━━━\u001b[0m\u001b[37m\u001b[0m \u001b[1m2s\u001b[0m 101ms/step - loss: 7.9244e-05 - val_loss: 0.0018\n",
      "Epoch 27/100\n",
      "\u001b[1m24/24\u001b[0m \u001b[32m━━━━━━━━━━━━━━━━━━━━\u001b[0m\u001b[37m\u001b[0m \u001b[1m2s\u001b[0m 100ms/step - loss: 1.0279e-04 - val_loss: 0.0016\n",
      "Epoch 28/100\n",
      "\u001b[1m24/24\u001b[0m \u001b[32m━━━━━━━━━━━━━━━━━━━━\u001b[0m\u001b[37m\u001b[0m \u001b[1m2s\u001b[0m 99ms/step - loss: 9.5685e-05 - val_loss: 0.0016\n",
      "Epoch 29/100\n",
      "\u001b[1m24/24\u001b[0m \u001b[32m━━━━━━━━━━━━━━━━━━━━\u001b[0m\u001b[37m\u001b[0m \u001b[1m3s\u001b[0m 109ms/step - loss: 8.3346e-05 - val_loss: 0.0016\n",
      "Epoch 30/100\n",
      "\u001b[1m24/24\u001b[0m \u001b[32m━━━━━━━━━━━━━━━━━━━━\u001b[0m\u001b[37m\u001b[0m \u001b[1m2s\u001b[0m 99ms/step - loss: 9.5743e-05 - val_loss: 0.0015\n",
      "Epoch 31/100\n",
      "\u001b[1m24/24\u001b[0m \u001b[32m━━━━━━━━━━━━━━━━━━━━\u001b[0m\u001b[37m\u001b[0m \u001b[1m2s\u001b[0m 104ms/step - loss: 7.1835e-05 - val_loss: 0.0016\n",
      "Epoch 32/100\n",
      "\u001b[1m24/24\u001b[0m \u001b[32m━━━━━━━━━━━━━━━━━━━━\u001b[0m\u001b[37m\u001b[0m \u001b[1m2s\u001b[0m 103ms/step - loss: 6.9541e-05 - val_loss: 0.0014\n",
      "Epoch 33/100\n",
      "\u001b[1m24/24\u001b[0m \u001b[32m━━━━━━━━━━━━━━━━━━━━\u001b[0m\u001b[37m\u001b[0m \u001b[1m2s\u001b[0m 100ms/step - loss: 6.9336e-05 - val_loss: 0.0015\n",
      "Epoch 34/100\n",
      "\u001b[1m24/24\u001b[0m \u001b[32m━━━━━━━━━━━━━━━━━━━━\u001b[0m\u001b[37m\u001b[0m \u001b[1m3s\u001b[0m 106ms/step - loss: 9.4115e-05 - val_loss: 0.0016\n",
      "Epoch 35/100\n",
      "\u001b[1m24/24\u001b[0m \u001b[32m━━━━━━━━━━━━━━━━━━━━\u001b[0m\u001b[37m\u001b[0m \u001b[1m2s\u001b[0m 104ms/step - loss: 1.1525e-04 - val_loss: 0.0013\n",
      "Epoch 36/100\n",
      "\u001b[1m24/24\u001b[0m \u001b[32m━━━━━━━━━━━━━━━━━━━━\u001b[0m\u001b[37m\u001b[0m \u001b[1m3s\u001b[0m 106ms/step - loss: 7.9193e-05 - val_loss: 0.0016\n",
      "Epoch 37/100\n",
      "\u001b[1m24/24\u001b[0m \u001b[32m━━━━━━━━━━━━━━━━━━━━\u001b[0m\u001b[37m\u001b[0m \u001b[1m3s\u001b[0m 119ms/step - loss: 9.8917e-05 - val_loss: 0.0018\n",
      "Epoch 38/100\n",
      "\u001b[1m24/24\u001b[0m \u001b[32m━━━━━━━━━━━━━━━━━━━━\u001b[0m\u001b[37m\u001b[0m \u001b[1m3s\u001b[0m 105ms/step - loss: 5.4297e-05 - val_loss: 0.0012\n",
      "Epoch 39/100\n",
      "\u001b[1m24/24\u001b[0m \u001b[32m━━━━━━━━━━━━━━━━━━━━\u001b[0m\u001b[37m\u001b[0m \u001b[1m2s\u001b[0m 103ms/step - loss: 7.5289e-05 - val_loss: 0.0012\n",
      "Epoch 40/100\n",
      "\u001b[1m24/24\u001b[0m \u001b[32m━━━━━━━━━━━━━━━━━━━━\u001b[0m\u001b[37m\u001b[0m \u001b[1m3s\u001b[0m 107ms/step - loss: 8.9090e-05 - val_loss: 0.0011\n",
      "Epoch 41/100\n",
      "\u001b[1m24/24\u001b[0m \u001b[32m━━━━━━━━━━━━━━━━━━━━\u001b[0m\u001b[37m\u001b[0m \u001b[1m3s\u001b[0m 105ms/step - loss: 7.7688e-05 - val_loss: 0.0012\n",
      "Epoch 42/100\n",
      "\u001b[1m24/24\u001b[0m \u001b[32m━━━━━━━━━━━━━━━━━━━━\u001b[0m\u001b[37m\u001b[0m \u001b[1m3s\u001b[0m 106ms/step - loss: 7.7093e-05 - val_loss: 0.0012\n",
      "Epoch 43/100\n",
      "\u001b[1m24/24\u001b[0m \u001b[32m━━━━━━━━━━━━━━━━━━━━\u001b[0m\u001b[37m\u001b[0m \u001b[1m3s\u001b[0m 107ms/step - loss: 6.0389e-05 - val_loss: 0.0012\n",
      "Epoch 44/100\n",
      "\u001b[1m24/24\u001b[0m \u001b[32m━━━━━━━━━━━━━━━━━━━━\u001b[0m\u001b[37m\u001b[0m \u001b[1m2s\u001b[0m 103ms/step - loss: 5.6558e-05 - val_loss: 0.0010\n",
      "Epoch 45/100\n",
      "\u001b[1m24/24\u001b[0m \u001b[32m━━━━━━━━━━━━━━━━━━━━\u001b[0m\u001b[37m\u001b[0m \u001b[1m2s\u001b[0m 100ms/step - loss: 6.1120e-05 - val_loss: 0.0012\n",
      "Epoch 46/100\n",
      "\u001b[1m24/24\u001b[0m \u001b[32m━━━━━━━━━━━━━━━━━━━━\u001b[0m\u001b[37m\u001b[0m \u001b[1m3s\u001b[0m 104ms/step - loss: 8.0767e-05 - val_loss: 0.0010\n",
      "Epoch 47/100\n",
      "\u001b[1m24/24\u001b[0m \u001b[32m━━━━━━━━━━━━━━━━━━━━\u001b[0m\u001b[37m\u001b[0m \u001b[1m3s\u001b[0m 108ms/step - loss: 6.3636e-05 - val_loss: 0.0011\n",
      "Epoch 48/100\n",
      "\u001b[1m24/24\u001b[0m \u001b[32m━━━━━━━━━━━━━━━━━━━━\u001b[0m\u001b[37m\u001b[0m \u001b[1m2s\u001b[0m 100ms/step - loss: 7.1163e-05 - val_loss: 0.0011\n",
      "Epoch 49/100\n",
      "\u001b[1m24/24\u001b[0m \u001b[32m━━━━━━━━━━━━━━━━━━━━\u001b[0m\u001b[37m\u001b[0m \u001b[1m2s\u001b[0m 100ms/step - loss: 8.3002e-05 - val_loss: 0.0012\n",
      "Epoch 50/100\n",
      "\u001b[1m24/24\u001b[0m \u001b[32m━━━━━━━━━━━━━━━━━━━━\u001b[0m\u001b[37m\u001b[0m \u001b[1m3s\u001b[0m 105ms/step - loss: 5.8031e-05 - val_loss: 0.0013\n",
      "Epoch 51/100\n",
      "\u001b[1m24/24\u001b[0m \u001b[32m━━━━━━━━━━━━━━━━━━━━\u001b[0m\u001b[37m\u001b[0m \u001b[1m2s\u001b[0m 104ms/step - loss: 5.7906e-05 - val_loss: 9.3344e-04\n",
      "Epoch 52/100\n",
      "\u001b[1m24/24\u001b[0m \u001b[32m━━━━━━━━━━━━━━━━━━━━\u001b[0m\u001b[37m\u001b[0m \u001b[1m2s\u001b[0m 100ms/step - loss: 6.3278e-05 - val_loss: 8.7346e-04\n",
      "Epoch 53/100\n",
      "\u001b[1m24/24\u001b[0m \u001b[32m━━━━━━━━━━━━━━━━━━━━\u001b[0m\u001b[37m\u001b[0m \u001b[1m3s\u001b[0m 109ms/step - loss: 4.7320e-05 - val_loss: 0.0020\n",
      "Epoch 54/100\n",
      "\u001b[1m24/24\u001b[0m \u001b[32m━━━━━━━━━━━━━━━━━━━━\u001b[0m\u001b[37m\u001b[0m \u001b[1m3s\u001b[0m 107ms/step - loss: 6.9227e-05 - val_loss: 8.2664e-04\n",
      "Epoch 55/100\n",
      "\u001b[1m24/24\u001b[0m \u001b[32m━━━━━━━━━━━━━━━━━━━━\u001b[0m\u001b[37m\u001b[0m \u001b[1m2s\u001b[0m 101ms/step - loss: 6.8721e-05 - val_loss: 8.8016e-04\n",
      "Epoch 56/100\n",
      "\u001b[1m24/24\u001b[0m \u001b[32m━━━━━━━━━━━━━━━━━━━━\u001b[0m\u001b[37m\u001b[0m \u001b[1m2s\u001b[0m 104ms/step - loss: 4.8786e-05 - val_loss: 8.9534e-04\n",
      "Epoch 57/100\n",
      "\u001b[1m24/24\u001b[0m \u001b[32m━━━━━━━━━━━━━━━━━━━━\u001b[0m\u001b[37m\u001b[0m \u001b[1m3s\u001b[0m 109ms/step - loss: 5.3113e-05 - val_loss: 0.0011\n",
      "Epoch 58/100\n",
      "\u001b[1m24/24\u001b[0m \u001b[32m━━━━━━━━━━━━━━━━━━━━\u001b[0m\u001b[37m\u001b[0m \u001b[1m3s\u001b[0m 109ms/step - loss: 5.4304e-05 - val_loss: 9.2482e-04\n",
      "Epoch 59/100\n",
      "\u001b[1m24/24\u001b[0m \u001b[32m━━━━━━━━━━━━━━━━━━━━\u001b[0m\u001b[37m\u001b[0m \u001b[1m3s\u001b[0m 106ms/step - loss: 4.6647e-05 - val_loss: 9.0888e-04\n",
      "Epoch 60/100\n",
      "\u001b[1m24/24\u001b[0m \u001b[32m━━━━━━━━━━━━━━━━━━━━\u001b[0m\u001b[37m\u001b[0m \u001b[1m3s\u001b[0m 108ms/step - loss: 4.3852e-05 - val_loss: 9.7464e-04\n",
      "Epoch 61/100\n",
      "\u001b[1m24/24\u001b[0m \u001b[32m━━━━━━━━━━━━━━━━━━━━\u001b[0m\u001b[37m\u001b[0m \u001b[1m3s\u001b[0m 108ms/step - loss: 4.0623e-05 - val_loss: 8.9756e-04\n",
      "Epoch 62/100\n",
      "\u001b[1m24/24\u001b[0m \u001b[32m━━━━━━━━━━━━━━━━━━━━\u001b[0m\u001b[37m\u001b[0m \u001b[1m3s\u001b[0m 110ms/step - loss: 5.4116e-05 - val_loss: 8.8920e-04\n",
      "Epoch 63/100\n",
      "\u001b[1m24/24\u001b[0m \u001b[32m━━━━━━━━━━━━━━━━━━━━\u001b[0m\u001b[37m\u001b[0m \u001b[1m3s\u001b[0m 107ms/step - loss: 5.1823e-05 - val_loss: 0.0011\n",
      "Epoch 64/100\n",
      "\u001b[1m24/24\u001b[0m \u001b[32m━━━━━━━━━━━━━━━━━━━━\u001b[0m\u001b[37m\u001b[0m \u001b[1m3s\u001b[0m 109ms/step - loss: 3.8858e-05 - val_loss: 7.6138e-04\n",
      "Epoch 65/100\n",
      "\u001b[1m24/24\u001b[0m \u001b[32m━━━━━━━━━━━━━━━━━━━━\u001b[0m\u001b[37m\u001b[0m \u001b[1m3s\u001b[0m 104ms/step - loss: 3.2998e-05 - val_loss: 7.1053e-04\n",
      "Epoch 66/100\n",
      "\u001b[1m24/24\u001b[0m \u001b[32m━━━━━━━━━━━━━━━━━━━━\u001b[0m\u001b[37m\u001b[0m \u001b[1m2s\u001b[0m 99ms/step - loss: 3.9515e-05 - val_loss: 9.3671e-04\n",
      "Epoch 67/100\n",
      "\u001b[1m24/24\u001b[0m \u001b[32m━━━━━━━━━━━━━━━━━━━━\u001b[0m\u001b[37m\u001b[0m \u001b[1m2s\u001b[0m 97ms/step - loss: 3.7332e-05 - val_loss: 0.0022\n",
      "Epoch 68/100\n",
      "\u001b[1m24/24\u001b[0m \u001b[32m━━━━━━━━━━━━━━━━━━━━\u001b[0m\u001b[37m\u001b[0m \u001b[1m2s\u001b[0m 98ms/step - loss: 4.2415e-05 - val_loss: 9.3209e-04\n",
      "Epoch 69/100\n",
      "\u001b[1m24/24\u001b[0m \u001b[32m━━━━━━━━━━━━━━━━━━━━\u001b[0m\u001b[37m\u001b[0m \u001b[1m2s\u001b[0m 100ms/step - loss: 5.3839e-05 - val_loss: 0.0021\n",
      "Epoch 70/100\n",
      "\u001b[1m24/24\u001b[0m \u001b[32m━━━━━━━━━━━━━━━━━━━━\u001b[0m\u001b[37m\u001b[0m \u001b[1m2s\u001b[0m 98ms/step - loss: 6.4330e-05 - val_loss: 0.0012\n",
      "Epoch 71/100\n",
      "\u001b[1m24/24\u001b[0m \u001b[32m━━━━━━━━━━━━━━━━━━━━\u001b[0m\u001b[37m\u001b[0m \u001b[1m2s\u001b[0m 96ms/step - loss: 5.4246e-05 - val_loss: 8.3362e-04\n",
      "Epoch 72/100\n",
      "\u001b[1m24/24\u001b[0m \u001b[32m━━━━━━━━━━━━━━━━━━━━\u001b[0m\u001b[37m\u001b[0m \u001b[1m2s\u001b[0m 97ms/step - loss: 4.3237e-05 - val_loss: 8.9829e-04\n",
      "Epoch 73/100\n",
      "\u001b[1m24/24\u001b[0m \u001b[32m━━━━━━━━━━━━━━━━━━━━\u001b[0m\u001b[37m\u001b[0m \u001b[1m2s\u001b[0m 100ms/step - loss: 3.4404e-05 - val_loss: 0.0010\n",
      "Epoch 74/100\n",
      "\u001b[1m24/24\u001b[0m \u001b[32m━━━━━━━━━━━━━━━━━━━━\u001b[0m\u001b[37m\u001b[0m \u001b[1m2s\u001b[0m 99ms/step - loss: 4.5608e-05 - val_loss: 8.0845e-04\n",
      "Epoch 75/100\n",
      "\u001b[1m24/24\u001b[0m \u001b[32m━━━━━━━━━━━━━━━━━━━━\u001b[0m\u001b[37m\u001b[0m \u001b[1m2s\u001b[0m 104ms/step - loss: 3.4564e-05 - val_loss: 7.8157e-04\n",
      "Epoch 76/100\n",
      "\u001b[1m24/24\u001b[0m \u001b[32m━━━━━━━━━━━━━━━━━━━━\u001b[0m\u001b[37m\u001b[0m \u001b[1m2s\u001b[0m 100ms/step - loss: 2.7089e-05 - val_loss: 8.9169e-04\n",
      "Epoch 77/100\n",
      "\u001b[1m24/24\u001b[0m \u001b[32m━━━━━━━━━━━━━━━━━━━━\u001b[0m\u001b[37m\u001b[0m \u001b[1m2s\u001b[0m 98ms/step - loss: 3.7271e-05 - val_loss: 0.0017\n",
      "Epoch 78/100\n",
      "\u001b[1m24/24\u001b[0m \u001b[32m━━━━━━━━━━━━━━━━━━━━\u001b[0m\u001b[37m\u001b[0m \u001b[1m2s\u001b[0m 103ms/step - loss: 4.1201e-05 - val_loss: 0.0016\n",
      "Epoch 79/100\n",
      "\u001b[1m24/24\u001b[0m \u001b[32m━━━━━━━━━━━━━━━━━━━━\u001b[0m\u001b[37m\u001b[0m \u001b[1m2s\u001b[0m 99ms/step - loss: 5.4663e-05 - val_loss: 8.1987e-04\n",
      "Epoch 80/100\n",
      "\u001b[1m24/24\u001b[0m \u001b[32m━━━━━━━━━━━━━━━━━━━━\u001b[0m\u001b[37m\u001b[0m \u001b[1m2s\u001b[0m 100ms/step - loss: 4.0768e-05 - val_loss: 8.2945e-04\n",
      "Epoch 81/100\n",
      "\u001b[1m24/24\u001b[0m \u001b[32m━━━━━━━━━━━━━━━━━━━━\u001b[0m\u001b[37m\u001b[0m \u001b[1m2s\u001b[0m 99ms/step - loss: 3.2607e-05 - val_loss: 9.1218e-04\n",
      "Epoch 82/100\n",
      "\u001b[1m24/24\u001b[0m \u001b[32m━━━━━━━━━━━━━━━━━━━━\u001b[0m\u001b[37m\u001b[0m \u001b[1m2s\u001b[0m 99ms/step - loss: 3.4972e-05 - val_loss: 8.2153e-04\n",
      "Epoch 83/100\n",
      "\u001b[1m24/24\u001b[0m \u001b[32m━━━━━━━━━━━━━━━━━━━━\u001b[0m\u001b[37m\u001b[0m \u001b[1m3s\u001b[0m 105ms/step - loss: 4.3691e-05 - val_loss: 0.0011\n",
      "Epoch 84/100\n",
      "\u001b[1m24/24\u001b[0m \u001b[32m━━━━━━━━━━━━━━━━━━━━\u001b[0m\u001b[37m\u001b[0m \u001b[1m2s\u001b[0m 100ms/step - loss: 3.2564e-05 - val_loss: 9.9543e-04\n",
      "Epoch 85/100\n",
      "\u001b[1m24/24\u001b[0m \u001b[32m━━━━━━━━━━━━━━━━━━━━\u001b[0m\u001b[37m\u001b[0m \u001b[1m3s\u001b[0m 108ms/step - loss: 5.0920e-05 - val_loss: 0.0017\n",
      "Epoch 86/100\n",
      "\u001b[1m24/24\u001b[0m \u001b[32m━━━━━━━━━━━━━━━━━━━━\u001b[0m\u001b[37m\u001b[0m \u001b[1m4s\u001b[0m 163ms/step - loss: 5.5158e-05 - val_loss: 9.0744e-04\n",
      "Epoch 87/100\n",
      "\u001b[1m24/24\u001b[0m \u001b[32m━━━━━━━━━━━━━━━━━━━━\u001b[0m\u001b[37m\u001b[0m \u001b[1m3s\u001b[0m 137ms/step - loss: 2.7947e-05 - val_loss: 7.8469e-04\n",
      "Epoch 88/100\n",
      "\u001b[1m24/24\u001b[0m \u001b[32m━━━━━━━━━━━━━━━━━━━━\u001b[0m\u001b[37m\u001b[0m \u001b[1m3s\u001b[0m 115ms/step - loss: 4.0794e-05 - val_loss: 8.8028e-04\n",
      "Epoch 89/100\n",
      "\u001b[1m24/24\u001b[0m \u001b[32m━━━━━━━━━━━━━━━━━━━━\u001b[0m\u001b[37m\u001b[0m \u001b[1m3s\u001b[0m 112ms/step - loss: 2.9337e-05 - val_loss: 0.0017\n",
      "Epoch 90/100\n",
      "\u001b[1m24/24\u001b[0m \u001b[32m━━━━━━━━━━━━━━━━━━━━\u001b[0m\u001b[37m\u001b[0m \u001b[1m3s\u001b[0m 109ms/step - loss: 3.9624e-05 - val_loss: 7.6888e-04\n",
      "Epoch 91/100\n",
      "\u001b[1m24/24\u001b[0m \u001b[32m━━━━━━━━━━━━━━━━━━━━\u001b[0m\u001b[37m\u001b[0m \u001b[1m3s\u001b[0m 106ms/step - loss: 3.2745e-05 - val_loss: 0.0010\n",
      "Epoch 92/100\n",
      "\u001b[1m24/24\u001b[0m \u001b[32m━━━━━━━━━━━━━━━━━━━━\u001b[0m\u001b[37m\u001b[0m \u001b[1m3s\u001b[0m 104ms/step - loss: 4.8988e-05 - val_loss: 9.5531e-04\n",
      "Epoch 93/100\n",
      "\u001b[1m24/24\u001b[0m \u001b[32m━━━━━━━━━━━━━━━━━━━━\u001b[0m\u001b[37m\u001b[0m \u001b[1m3s\u001b[0m 108ms/step - loss: 3.0604e-05 - val_loss: 0.0010\n",
      "Epoch 94/100\n",
      "\u001b[1m24/24\u001b[0m \u001b[32m━━━━━━━━━━━━━━━━━━━━\u001b[0m\u001b[37m\u001b[0m \u001b[1m2s\u001b[0m 98ms/step - loss: 4.0588e-05 - val_loss: 8.9684e-04\n",
      "Epoch 95/100\n",
      "\u001b[1m24/24\u001b[0m \u001b[32m━━━━━━━━━━━━━━━━━━━━\u001b[0m\u001b[37m\u001b[0m \u001b[1m3s\u001b[0m 108ms/step - loss: 3.4033e-05 - val_loss: 7.9527e-04\n",
      "Epoch 96/100\n",
      "\u001b[1m24/24\u001b[0m \u001b[32m━━━━━━━━━━━━━━━━━━━━\u001b[0m\u001b[37m\u001b[0m \u001b[1m2s\u001b[0m 100ms/step - loss: 3.8180e-05 - val_loss: 8.1534e-04\n",
      "Epoch 97/100\n",
      "\u001b[1m24/24\u001b[0m \u001b[32m━━━━━━━━━━━━━━━━━━━━\u001b[0m\u001b[37m\u001b[0m \u001b[1m3s\u001b[0m 106ms/step - loss: 3.2345e-05 - val_loss: 8.0163e-04\n",
      "Epoch 98/100\n",
      "\u001b[1m24/24\u001b[0m \u001b[32m━━━━━━━━━━━━━━━━━━━━\u001b[0m\u001b[37m\u001b[0m \u001b[1m3s\u001b[0m 107ms/step - loss: 2.4571e-05 - val_loss: 8.5367e-04\n",
      "Epoch 99/100\n",
      "\u001b[1m24/24\u001b[0m \u001b[32m━━━━━━━━━━━━━━━━━━━━\u001b[0m\u001b[37m\u001b[0m \u001b[1m2s\u001b[0m 101ms/step - loss: 3.5000e-05 - val_loss: 9.5407e-04\n",
      "Epoch 100/100\n",
      "\u001b[1m24/24\u001b[0m \u001b[32m━━━━━━━━━━━━━━━━━━━━\u001b[0m\u001b[37m\u001b[0m \u001b[1m3s\u001b[0m 106ms/step - loss: 3.2010e-05 - val_loss: 0.0011\n"
     ]
    },
    {
     "data": {
      "text/plain": [
       "<keras.src.callbacks.history.History at 0x29025b11250>"
      ]
     },
     "execution_count": 25,
     "metadata": {},
     "output_type": "execute_result"
    }
   ],
   "source": [
    "model.fit(X_train,Y_train,validation_data=(X_test,Y_test),epochs=100,batch_size=64,verbose=1)"
   ]
  },
  {
   "cell_type": "code",
   "execution_count": 26,
   "id": "5aafb269",
   "metadata": {},
   "outputs": [
    {
     "name": "stdout",
     "output_type": "stream",
     "text": [
      "\u001b[1m48/48\u001b[0m \u001b[32m━━━━━━━━━━━━━━━━━━━━\u001b[0m\u001b[37m\u001b[0m \u001b[1m2s\u001b[0m 29ms/step\n",
      "\u001b[1m25/25\u001b[0m \u001b[32m━━━━━━━━━━━━━━━━━━━━\u001b[0m\u001b[37m\u001b[0m \u001b[1m1s\u001b[0m 22ms/step\n"
     ]
    }
   ],
   "source": [
    "train_predict = model.predict(X_train)\n",
    "test_predict = model.predict(X_test)"
   ]
  },
  {
   "cell_type": "code",
   "execution_count": 27,
   "id": "b9f5eb4d",
   "metadata": {},
   "outputs": [],
   "source": [
    "train_predict = scaler.inverse_transform(train_predict)\n",
    "test_presict = scaler.inverse_transform(test_predict)"
   ]
  },
  {
   "cell_type": "code",
   "execution_count": 28,
   "id": "e47687fb",
   "metadata": {},
   "outputs": [
    {
     "data": {
      "text/plain": [
       "43.32445467704958"
      ]
     },
     "execution_count": 28,
     "metadata": {},
     "output_type": "execute_result"
    }
   ],
   "source": [
    "#train data RMSE\n",
    "import math\n",
    "from sklearn.metrics import mean_squared_error\n",
    "math.sqrt(mean_squared_error(Y_train, train_predict))"
   ]
  },
  {
   "cell_type": "code",
   "execution_count": 29,
   "id": "abacd07e",
   "metadata": {},
   "outputs": [
    {
     "data": {
      "text/plain": [
       "0.032503790849058606"
      ]
     },
     "execution_count": 29,
     "metadata": {},
     "output_type": "execute_result"
    }
   ],
   "source": [
    "#test data RMSE\n",
    "math.sqrt(mean_squared_error(Y_test,test_predict))"
   ]
  },
  {
   "cell_type": "code",
   "execution_count": 35,
   "id": "99978a01",
   "metadata": {},
   "outputs": [
    {
     "data": {
      "image/png": "[encoded data removed]",
      "text/plain": [
       "<Figure size 640x480 with 1 Axes>"
      ]
     },
     "metadata": {},
     "output_type": "display_data"
    }
   ],
   "source": [
    "import numpy as np\n",
    "#train prediction for plotting\n",
    "look_back = 100\n",
    "trainpredictplot = np.empty_like(tesla1)\n",
    "trainpredictplot[:,:] = np.nan\n",
    "trainpredictplot[look_back:len(train_predict)+look_back,:] = train_predict\n",
    "#test prediction for plotting\n",
    "testpredictplot = np.empty_like(tesla1)\n",
    "testpredictplot[:,:] = np.nan\n",
    "testpredictplot[len(train_predict)+(look_back*2)+1:len(tesla1)-1,:] = test_predict\n",
    "#plot baseline and predictions\n",
    "plt.plot(scaler.inverse_transform(tesla1))\n",
    "plt.plot(trainpredictplot)\n",
    "plt.plot(testpredictplot)\n",
    "plt.show()"
   ]
  },
  {
   "cell_type": "code",
   "execution_count": 36,
   "id": "16ee823a",
   "metadata": {},
   "outputs": [
    {
     "data": {
      "text/plain": [
       "881"
      ]
     },
     "execution_count": 36,
     "metadata": {},
     "output_type": "execute_result"
    }
   ],
   "source": [
    "#predict future30 days\n",
    "len(test_data)"
   ]
  },
  {
   "cell_type": "code",
   "execution_count": 37,
   "id": "e5c4ab51",
   "metadata": {},
   "outputs": [
    {
     "data": {
      "text/plain": [
       "(1, 100)"
      ]
     },
     "execution_count": 37,
     "metadata": {},
     "output_type": "execute_result"
    }
   ],
   "source": [
    "x_input = test_data[781:].reshape(1,-1)\n",
    "x_input.shape"
   ]
  },
  {
   "cell_type": "code",
   "execution_count": 38,
   "id": "671b68bb",
   "metadata": {},
   "outputs": [],
   "source": [
    "temp_input = list(x_input)\n",
    "temp_input = temp_input[0].tolist()"
   ]
  },
  {
   "cell_type": "code",
   "execution_count": 39,
   "id": "18cc6cf5",
   "metadata": {},
   "outputs": [
    {
     "data": {
      "text/plain": [
       "[0.495144761114019,\n",
       " 0.432206448471072,\n",
       " 0.4337549187586991,\n",
       " 0.45293610283251623,\n",
       " 0.45458449655719196,\n",
       " 0.4438450136519753,\n",
       " 0.44776618919919253,\n",
       " 0.44539352204922755,\n",
       " 0.42828527292385477,\n",
       " 0.43837540592675606,\n",
       " 0.4445693251868897,\n",
       " 0.4495144682512917,\n",
       " 0.4595296777312191,\n",
       " 0.44594298662411946,\n",
       " 0.4356780447708208,\n",
       " 0.4473915715843231,\n",
       " 0.4767128122699407,\n",
       " 0.4754640360742091,\n",
       " 0.46000418067351206,\n",
       " 0.46252673297904995,\n",
       " 0.4691202697681277,\n",
       " 0.455533578661028,\n",
       " 0.47409037463697934,\n",
       " 0.4749145714993172,\n",
       " 0.4806839114260571,\n",
       " 0.4802843320067381,\n",
       " 0.48218245810478505,\n",
       " 0.445967948428569,\n",
       " 0.4274860759755916,\n",
       " 0.41699632544374615,\n",
       " 0.42226616251411847,\n",
       " 0.41399927019591537,\n",
       " 0.42006834232417595,\n",
       " 0.41949387783520936,\n",
       " 0.3993636116575562,\n",
       " 0.3819307066358382,\n",
       " 0.3846031059873239,\n",
       " 0.41015305628129717,\n",
       " 0.4039591370211635,\n",
       " 0.41479850525380363,\n",
       " 0.40770546560835824,\n",
       " 0.4027353226298815,\n",
       " 0.4072309245564402,\n",
       " 0.4198185718411796,\n",
       " 0.4252132941530501,\n",
       " 0.4151231611501488,\n",
       " 0.41369957610401986,\n",
       " 0.3922456102076612,\n",
       " 0.39661632689272175,\n",
       " 0.4034346342507212,\n",
       " 0.38792481713149984,\n",
       " 0.4081050450276773,\n",
       " 0.41784552222015875,\n",
       " 0.4050580280613222,\n",
       " 0.4121511058163927,\n",
       " 0.4032847872047734,\n",
       " 0.3793831925258508,\n",
       " 0.36846890077023675,\n",
       " 0.36432295465409786,\n",
       " 0.3505364547825261,\n",
       " 0.3433435298096572,\n",
       " 0.33085576785234133,\n",
       " 0.3374243047273444,\n",
       " 0.3810066244460769,\n",
       " 0.40111189070965536,\n",
       " 0.39639151821417495,\n",
       " 0.46072849220842643,\n",
       " 0.433829842281673,\n",
       " 0.4256129116819942,\n",
       " 0.4256628352908934,\n",
       " 0.428609966929825,\n",
       " 0.43752620915034346,\n",
       " 0.42016822765159945,\n",
       " 0.41245079990828826,\n",
       " 0.40558253083176454,\n",
       " 0.3968410974616434,\n",
       " 0.4053827220672925,\n",
       " 0.41951887774928404,\n",
       " 0.4106275973332152,\n",
       " 0.4127504940001838,\n",
       " 0.41929410718036236,\n",
       " 0.4130252262876297,\n",
       " 0.4421217345139508,\n",
       " 0.42591260577388973,\n",
       " 0.4100032092353494,\n",
       " 0.4237397473883968,\n",
       " 0.4175208282141885,\n",
       " 0.4161222049725091,\n",
       " 0.4226158183245383,\n",
       " 0.42084257746798953,\n",
       " 0.41637193734588035,\n",
       " 0.41257568514978643,\n",
       " 0.41315011152912795,\n",
       " 0.4204929216575697,\n",
       " 0.4193440307892616,\n",
       " 0.41012805636722244,\n",
       " 0.4023107432964878,\n",
       " 0.41886948973734356,\n",
       " 0.43180683094212785,\n",
       " 0.420667730507967]"
      ]
     },
     "execution_count": 39,
     "metadata": {},
     "output_type": "execute_result"
    }
   ],
   "source": [
    "temp_input"
   ]
  },
  {
   "cell_type": "code",
   "execution_count": 53,
   "id": "92bb0421",
   "metadata": {},
   "outputs": [
    {
     "name": "stdout",
     "output_type": "stream",
     "text": [
      "0day input [0.38193071 0.38460311 0.41015306 0.40395914 0.41479851 0.40770547\n",
      " 0.40273532 0.40723092 0.41981857 0.42521329 0.41512316 0.41369958\n",
      " 0.39224561 0.39661633 0.40343463 0.38792482 0.40810505 0.41784552\n",
      " 0.40505803 0.41215111 0.40328479 0.37938319 0.3684689  0.36432295\n",
      " 0.35053645 0.34334353 0.33085577 0.3374243  0.38100662 0.40111189\n",
      " 0.39639152 0.46072849 0.43382984 0.42561291 0.42566284 0.42860997\n",
      " 0.43752621 0.42016823 0.4124508  0.40558253 0.3968411  0.40538272\n",
      " 0.41951888 0.4106276  0.41275049 0.41929411 0.41302523 0.44212173\n",
      " 0.42591261 0.41000321 0.42373975 0.41752083 0.4161222  0.42261582\n",
      " 0.42084258 0.41637194 0.41257569 0.41315011 0.42049292 0.41934403\n",
      " 0.41012806 0.40231074 0.41886949 0.43180683 0.42066773 0.42346588\n",
      " 0.41970736 0.41624311 0.41329035 0.41145068 0.41084763 0.41121638\n",
      " 0.41207641 0.41292176 0.41337124 0.41325247 0.41260806 0.41163978\n",
      " 0.41061708 0.40978506 0.40929863 0.40919748 0.40941992 0.40984294\n",
      " 0.41032961 0.41076979 0.41110381 0.41132686 0.41147622 0.41160938\n",
      " 0.41178107 0.41202554 0.41234958 0.41273403 0.41314319 0.41353646\n",
      " 0.41387922 0.41415074 0.41434497 0.41446885]\n",
      "0day output\n",
      "1day input [0.38460311 0.41015306 0.40395914 0.41479851 0.40770547 0.40273532\n",
      " 0.40723092 0.41981857 0.42521329 0.41512316 0.41369958 0.39224561\n",
      " 0.39661633 0.40343463 0.38792482 0.40810505 0.41784552 0.40505803\n",
      " 0.41215111 0.40328479 0.37938319 0.3684689  0.36432295 0.35053645\n",
      " 0.34334353 0.33085577 0.3374243  0.38100662 0.40111189 0.39639152\n",
      " 0.46072849 0.43382984 0.42561291 0.42566284 0.42860997 0.43752621\n",
      " 0.42016823 0.4124508  0.40558253 0.3968411  0.40538272 0.41951888\n",
      " 0.4106276  0.41275049 0.41929411 0.41302523 0.44212173 0.42591261\n",
      " 0.41000321 0.42373975 0.41752083 0.4161222  0.42261582 0.42084258\n",
      " 0.41637194 0.41257569 0.41315011 0.42049292 0.41934403 0.41012806\n",
      " 0.40231074 0.41886949 0.43180683 0.42066773 0.42346588 0.41970736\n",
      " 0.41624311 0.41329035 0.41145068 0.41084763 0.41121638 0.41207641\n",
      " 0.41292176 0.41337124 0.41325247 0.41260806 0.41163978 0.41061708\n",
      " 0.40978506 0.40929863 0.40919748 0.40941992 0.40984294 0.41032961\n",
      " 0.41076979 0.41110381 0.41132686 0.41147622 0.41160938 0.41178107\n",
      " 0.41202554 0.41234958 0.41273403 0.41314319 0.41353646 0.41387922\n",
      " 0.41415074 0.41434497 0.41446885 0.41453695]\n",
      "1day output\n",
      "2day input [0.41015306 0.40395914 0.41479851 0.40770547 0.40273532 0.40723092\n",
      " 0.41981857 0.42521329 0.41512316 0.41369958 0.39224561 0.39661633\n",
      " 0.40343463 0.38792482 0.40810505 0.41784552 0.40505803 0.41215111\n",
      " 0.40328479 0.37938319 0.3684689  0.36432295 0.35053645 0.34334353\n",
      " 0.33085577 0.3374243  0.38100662 0.40111189 0.39639152 0.46072849\n",
      " 0.43382984 0.42561291 0.42566284 0.42860997 0.43752621 0.42016823\n",
      " 0.4124508  0.40558253 0.3968411  0.40538272 0.41951888 0.4106276\n",
      " 0.41275049 0.41929411 0.41302523 0.44212173 0.42591261 0.41000321\n",
      " 0.42373975 0.41752083 0.4161222  0.42261582 0.42084258 0.41637194\n",
      " 0.41257569 0.41315011 0.42049292 0.41934403 0.41012806 0.40231074\n",
      " 0.41886949 0.43180683 0.42066773 0.42346588 0.41970736 0.41624311\n",
      " 0.41329035 0.41145068 0.41084763 0.41121638 0.41207641 0.41292176\n",
      " 0.41337124 0.41325247 0.41260806 0.41163978 0.41061708 0.40978506\n",
      " 0.40929863 0.40919748 0.40941992 0.40984294 0.41032961 0.41076979\n",
      " 0.41110381 0.41132686 0.41147622 0.41160938 0.41178107 0.41202554\n",
      " 0.41234958 0.41273403 0.41314319 0.41353646 0.41387922 0.41415074\n",
      " 0.41434497 0.41446885 0.41453695 0.41456506]\n",
      "2day output\n",
      "3day input [0.40395914 0.41479851 0.40770547 0.40273532 0.40723092 0.41981857\n",
      " 0.42521329 0.41512316 0.41369958 0.39224561 0.39661633 0.40343463\n",
      " 0.38792482 0.40810505 0.41784552 0.40505803 0.41215111 0.40328479\n",
      " 0.37938319 0.3684689  0.36432295 0.35053645 0.34334353 0.33085577\n",
      " 0.3374243  0.38100662 0.40111189 0.39639152 0.46072849 0.43382984\n",
      " 0.42561291 0.42566284 0.42860997 0.43752621 0.42016823 0.4124508\n",
      " 0.40558253 0.3968411  0.40538272 0.41951888 0.4106276  0.41275049\n",
      " 0.41929411 0.41302523 0.44212173 0.42591261 0.41000321 0.42373975\n",
      " 0.41752083 0.4161222  0.42261582 0.42084258 0.41637194 0.41257569\n",
      " 0.41315011 0.42049292 0.41934403 0.41012806 0.40231074 0.41886949\n",
      " 0.43180683 0.42066773 0.42346588 0.41970736 0.41624311 0.41329035\n",
      " 0.41145068 0.41084763 0.41121638 0.41207641 0.41292176 0.41337124\n",
      " 0.41325247 0.41260806 0.41163978 0.41061708 0.40978506 0.40929863\n",
      " 0.40919748 0.40941992 0.40984294 0.41032961 0.41076979 0.41110381\n",
      " 0.41132686 0.41147622 0.41160938 0.41178107 0.41202554 0.41234958\n",
      " 0.41273403 0.41314319 0.41353646 0.41387922 0.41415074 0.41434497\n",
      " 0.41446885 0.41453695 0.41456506 0.41456494]\n",
      "3day output\n",
      "4day input [0.41479851 0.40770547 0.40273532 0.40723092 0.41981857 0.42521329\n",
      " 0.41512316 0.41369958 0.39224561 0.39661633 0.40343463 0.38792482\n",
      " 0.40810505 0.41784552 0.40505803 0.41215111 0.40328479 0.37938319\n",
      " 0.3684689  0.36432295 0.35053645 0.34334353 0.33085577 0.3374243\n",
      " 0.38100662 0.40111189 0.39639152 0.46072849 0.43382984 0.42561291\n",
      " 0.42566284 0.42860997 0.43752621 0.42016823 0.4124508  0.40558253\n",
      " 0.3968411  0.40538272 0.41951888 0.4106276  0.41275049 0.41929411\n",
      " 0.41302523 0.44212173 0.42591261 0.41000321 0.42373975 0.41752083\n",
      " 0.4161222  0.42261582 0.42084258 0.41637194 0.41257569 0.41315011\n",
      " 0.42049292 0.41934403 0.41012806 0.40231074 0.41886949 0.43180683\n",
      " 0.42066773 0.42346588 0.41970736 0.41624311 0.41329035 0.41145068\n",
      " 0.41084763 0.41121638 0.41207641 0.41292176 0.41337124 0.41325247\n",
      " 0.41260806 0.41163978 0.41061708 0.40978506 0.40929863 0.40919748\n",
      " 0.40941992 0.40984294 0.41032961 0.41076979 0.41110381 0.41132686\n",
      " 0.41147622 0.41160938 0.41178107 0.41202554 0.41234958 0.41273403\n",
      " 0.41314319 0.41353646 0.41387922 0.41415074 0.41434497 0.41446885\n",
      " 0.41453695 0.41456506 0.41456494 0.41454214]\n",
      "4day output\n",
      "5day input [0.40770547 0.40273532 0.40723092 0.41981857 0.42521329 0.41512316\n",
      " 0.41369958 0.39224561 0.39661633 0.40343463 0.38792482 0.40810505\n",
      " 0.41784552 0.40505803 0.41215111 0.40328479 0.37938319 0.3684689\n",
      " 0.36432295 0.35053645 0.34334353 0.33085577 0.3374243  0.38100662\n",
      " 0.40111189 0.39639152 0.46072849 0.43382984 0.42561291 0.42566284\n",
      " 0.42860997 0.43752621 0.42016823 0.4124508  0.40558253 0.3968411\n",
      " 0.40538272 0.41951888 0.4106276  0.41275049 0.41929411 0.41302523\n",
      " 0.44212173 0.42591261 0.41000321 0.42373975 0.41752083 0.4161222\n",
      " 0.42261582 0.42084258 0.41637194 0.41257569 0.41315011 0.42049292\n",
      " 0.41934403 0.41012806 0.40231074 0.41886949 0.43180683 0.42066773\n",
      " 0.42346588 0.41970736 0.41624311 0.41329035 0.41145068 0.41084763\n",
      " 0.41121638 0.41207641 0.41292176 0.41337124 0.41325247 0.41260806\n",
      " 0.41163978 0.41061708 0.40978506 0.40929863 0.40919748 0.40941992\n",
      " 0.40984294 0.41032961 0.41076979 0.41110381 0.41132686 0.41147622\n",
      " 0.41160938 0.41178107 0.41202554 0.41234958 0.41273403 0.41314319\n",
      " 0.41353646 0.41387922 0.41415074 0.41434497 0.41446885 0.41453695\n",
      " 0.41456506 0.41456494 0.41454214 0.41449636]\n",
      "5day output\n",
      "6day input [0.40273532 0.40723092 0.41981857 0.42521329 0.41512316 0.41369958\n",
      " 0.39224561 0.39661633 0.40343463 0.38792482 0.40810505 0.41784552\n",
      " 0.40505803 0.41215111 0.40328479 0.37938319 0.3684689  0.36432295\n",
      " 0.35053645 0.34334353 0.33085577 0.3374243  0.38100662 0.40111189\n",
      " 0.39639152 0.46072849 0.43382984 0.42561291 0.42566284 0.42860997\n",
      " 0.43752621 0.42016823 0.4124508  0.40558253 0.3968411  0.40538272\n",
      " 0.41951888 0.4106276  0.41275049 0.41929411 0.41302523 0.44212173\n",
      " 0.42591261 0.41000321 0.42373975 0.41752083 0.4161222  0.42261582\n",
      " 0.42084258 0.41637194 0.41257569 0.41315011 0.42049292 0.41934403\n",
      " 0.41012806 0.40231074 0.41886949 0.43180683 0.42066773 0.42346588\n",
      " 0.41970736 0.41624311 0.41329035 0.41145068 0.41084763 0.41121638\n",
      " 0.41207641 0.41292176 0.41337124 0.41325247 0.41260806 0.41163978\n",
      " 0.41061708 0.40978506 0.40929863 0.40919748 0.40941992 0.40984294\n",
      " 0.41032961 0.41076979 0.41110381 0.41132686 0.41147622 0.41160938\n",
      " 0.41178107 0.41202554 0.41234958 0.41273403 0.41314319 0.41353646\n",
      " 0.41387922 0.41415074 0.41434497 0.41446885 0.41453695 0.41456506\n",
      " 0.41456494 0.41454214 0.41449636 0.41442314]\n",
      "6day output\n",
      "7day input [0.40723092 0.41981857 0.42521329 0.41512316 0.41369958 0.39224561\n",
      " 0.39661633 0.40343463 0.38792482 0.40810505 0.41784552 0.40505803\n",
      " 0.41215111 0.40328479 0.37938319 0.3684689  0.36432295 0.35053645\n",
      " 0.34334353 0.33085577 0.3374243  0.38100662 0.40111189 0.39639152\n",
      " 0.46072849 0.43382984 0.42561291 0.42566284 0.42860997 0.43752621\n",
      " 0.42016823 0.4124508  0.40558253 0.3968411  0.40538272 0.41951888\n",
      " 0.4106276  0.41275049 0.41929411 0.41302523 0.44212173 0.42591261\n",
      " 0.41000321 0.42373975 0.41752083 0.4161222  0.42261582 0.42084258\n",
      " 0.41637194 0.41257569 0.41315011 0.42049292 0.41934403 0.41012806\n",
      " 0.40231074 0.41886949 0.43180683 0.42066773 0.42346588 0.41970736\n",
      " 0.41624311 0.41329035 0.41145068 0.41084763 0.41121638 0.41207641\n",
      " 0.41292176 0.41337124 0.41325247 0.41260806 0.41163978 0.41061708\n",
      " 0.40978506 0.40929863 0.40919748 0.40941992 0.40984294 0.41032961\n",
      " 0.41076979 0.41110381 0.41132686 0.41147622 0.41160938 0.41178107\n",
      " 0.41202554 0.41234958 0.41273403 0.41314319 0.41353646 0.41387922\n",
      " 0.41415074 0.41434497 0.41446885 0.41453695 0.41456506 0.41456494\n",
      " 0.41454214 0.41449636 0.41442314 0.41431674]\n",
      "7day output\n",
      "8day input [0.41981857 0.42521329 0.41512316 0.41369958 0.39224561 0.39661633\n",
      " 0.40343463 0.38792482 0.40810505 0.41784552 0.40505803 0.41215111\n",
      " 0.40328479 0.37938319 0.3684689  0.36432295 0.35053645 0.34334353\n",
      " 0.33085577 0.3374243  0.38100662 0.40111189 0.39639152 0.46072849\n",
      " 0.43382984 0.42561291 0.42566284 0.42860997 0.43752621 0.42016823\n",
      " 0.4124508  0.40558253 0.3968411  0.40538272 0.41951888 0.4106276\n",
      " 0.41275049 0.41929411 0.41302523 0.44212173 0.42591261 0.41000321\n",
      " 0.42373975 0.41752083 0.4161222  0.42261582 0.42084258 0.41637194\n",
      " 0.41257569 0.41315011 0.42049292 0.41934403 0.41012806 0.40231074\n",
      " 0.41886949 0.43180683 0.42066773 0.42346588 0.41970736 0.41624311\n",
      " 0.41329035 0.41145068 0.41084763 0.41121638 0.41207641 0.41292176\n",
      " 0.41337124 0.41325247 0.41260806 0.41163978 0.41061708 0.40978506\n",
      " 0.40929863 0.40919748 0.40941992 0.40984294 0.41032961 0.41076979\n",
      " 0.41110381 0.41132686 0.41147622 0.41160938 0.41178107 0.41202554\n",
      " 0.41234958 0.41273403 0.41314319 0.41353646 0.41387922 0.41415074\n",
      " 0.41434497 0.41446885 0.41453695 0.41456506 0.41456494 0.41454214\n",
      " 0.41449636 0.41442314 0.41431674 0.41417375]\n",
      "8day output\n",
      "9day input [0.42521329 0.41512316 0.41369958 0.39224561 0.39661633 0.40343463\n",
      " 0.38792482 0.40810505 0.41784552 0.40505803 0.41215111 0.40328479\n",
      " 0.37938319 0.3684689  0.36432295 0.35053645 0.34334353 0.33085577\n",
      " 0.3374243  0.38100662 0.40111189 0.39639152 0.46072849 0.43382984\n",
      " 0.42561291 0.42566284 0.42860997 0.43752621 0.42016823 0.4124508\n",
      " 0.40558253 0.3968411  0.40538272 0.41951888 0.4106276  0.41275049\n",
      " 0.41929411 0.41302523 0.44212173 0.42591261 0.41000321 0.42373975\n",
      " 0.41752083 0.4161222  0.42261582 0.42084258 0.41637194 0.41257569\n",
      " 0.41315011 0.42049292 0.41934403 0.41012806 0.40231074 0.41886949\n",
      " 0.43180683 0.42066773 0.42346588 0.41970736 0.41624311 0.41329035\n",
      " 0.41145068 0.41084763 0.41121638 0.41207641 0.41292176 0.41337124\n",
      " 0.41325247 0.41260806 0.41163978 0.41061708 0.40978506 0.40929863\n",
      " 0.40919748 0.40941992 0.40984294 0.41032961 0.41076979 0.41110381\n",
      " 0.41132686 0.41147622 0.41160938 0.41178107 0.41202554 0.41234958\n",
      " 0.41273403 0.41314319 0.41353646 0.41387922 0.41415074 0.41434497\n",
      " 0.41446885 0.41453695 0.41456506 0.41456494 0.41454214 0.41449636\n",
      " 0.41442314 0.41431674 0.41417375 0.41399366]\n",
      "9day output\n",
      "10day input [0.41512316 0.41369958 0.39224561 0.39661633 0.40343463 0.38792482\n",
      " 0.40810505 0.41784552 0.40505803 0.41215111 0.40328479 0.37938319\n",
      " 0.3684689  0.36432295 0.35053645 0.34334353 0.33085577 0.3374243\n",
      " 0.38100662 0.40111189 0.39639152 0.46072849 0.43382984 0.42561291\n",
      " 0.42566284 0.42860997 0.43752621 0.42016823 0.4124508  0.40558253\n",
      " 0.3968411  0.40538272 0.41951888 0.4106276  0.41275049 0.41929411\n",
      " 0.41302523 0.44212173 0.42591261 0.41000321 0.42373975 0.41752083\n",
      " 0.4161222  0.42261582 0.42084258 0.41637194 0.41257569 0.41315011\n",
      " 0.42049292 0.41934403 0.41012806 0.40231074 0.41886949 0.43180683\n",
      " 0.42066773 0.42346588 0.41970736 0.41624311 0.41329035 0.41145068\n",
      " 0.41084763 0.41121638 0.41207641 0.41292176 0.41337124 0.41325247\n",
      " 0.41260806 0.41163978 0.41061708 0.40978506 0.40929863 0.40919748\n",
      " 0.40941992 0.40984294 0.41032961 0.41076979 0.41110381 0.41132686\n",
      " 0.41147622 0.41160938 0.41178107 0.41202554 0.41234958 0.41273403\n",
      " 0.41314319 0.41353646 0.41387922 0.41415074 0.41434497 0.41446885\n",
      " 0.41453695 0.41456506 0.41456494 0.41454214 0.41449636 0.41442314\n",
      " 0.41431674 0.41417375 0.41399366 0.41378051]\n",
      "10day output\n",
      "11day input [0.41369958 0.39224561 0.39661633 0.40343463 0.38792482 0.40810505\n",
      " 0.41784552 0.40505803 0.41215111 0.40328479 0.37938319 0.3684689\n",
      " 0.36432295 0.35053645 0.34334353 0.33085577 0.3374243  0.38100662\n",
      " 0.40111189 0.39639152 0.46072849 0.43382984 0.42561291 0.42566284\n",
      " 0.42860997 0.43752621 0.42016823 0.4124508  0.40558253 0.3968411\n",
      " 0.40538272 0.41951888 0.4106276  0.41275049 0.41929411 0.41302523\n",
      " 0.44212173 0.42591261 0.41000321 0.42373975 0.41752083 0.4161222\n",
      " 0.42261582 0.42084258 0.41637194 0.41257569 0.41315011 0.42049292\n",
      " 0.41934403 0.41012806 0.40231074 0.41886949 0.43180683 0.42066773\n",
      " 0.42346588 0.41970736 0.41624311 0.41329035 0.41145068 0.41084763\n",
      " 0.41121638 0.41207641 0.41292176 0.41337124 0.41325247 0.41260806\n",
      " 0.41163978 0.41061708 0.40978506 0.40929863 0.40919748 0.40941992\n",
      " 0.40984294 0.41032961 0.41076979 0.41110381 0.41132686 0.41147622\n",
      " 0.41160938 0.41178107 0.41202554 0.41234958 0.41273403 0.41314319\n",
      " 0.41353646 0.41387922 0.41415074 0.41434497 0.41446885 0.41453695\n",
      " 0.41456506 0.41456494 0.41454214 0.41449636 0.41442314 0.41431674\n",
      " 0.41417375 0.41399366 0.41378051 0.41354167]\n",
      "11day output\n",
      "12day input [0.39224561 0.39661633 0.40343463 0.38792482 0.40810505 0.41784552\n",
      " 0.40505803 0.41215111 0.40328479 0.37938319 0.3684689  0.36432295\n",
      " 0.35053645 0.34334353 0.33085577 0.3374243  0.38100662 0.40111189\n",
      " 0.39639152 0.46072849 0.43382984 0.42561291 0.42566284 0.42860997\n",
      " 0.43752621 0.42016823 0.4124508  0.40558253 0.3968411  0.40538272\n",
      " 0.41951888 0.4106276  0.41275049 0.41929411 0.41302523 0.44212173\n",
      " 0.42591261 0.41000321 0.42373975 0.41752083 0.4161222  0.42261582\n",
      " 0.42084258 0.41637194 0.41257569 0.41315011 0.42049292 0.41934403\n",
      " 0.41012806 0.40231074 0.41886949 0.43180683 0.42066773 0.42346588\n",
      " 0.41970736 0.41624311 0.41329035 0.41145068 0.41084763 0.41121638\n",
      " 0.41207641 0.41292176 0.41337124 0.41325247 0.41260806 0.41163978\n",
      " 0.41061708 0.40978506 0.40929863 0.40919748 0.40941992 0.40984294\n",
      " 0.41032961 0.41076979 0.41110381 0.41132686 0.41147622 0.41160938\n",
      " 0.41178107 0.41202554 0.41234958 0.41273403 0.41314319 0.41353646\n",
      " 0.41387922 0.41415074 0.41434497 0.41446885 0.41453695 0.41456506\n",
      " 0.41456494 0.41454214 0.41449636 0.41442314 0.41431674 0.41417375\n",
      " 0.41399366 0.41378051 0.41354167 0.41328675]\n",
      "12day output\n",
      "13day input [0.39661633 0.40343463 0.38792482 0.40810505 0.41784552 0.40505803\n",
      " 0.41215111 0.40328479 0.37938319 0.3684689  0.36432295 0.35053645\n",
      " 0.34334353 0.33085577 0.3374243  0.38100662 0.40111189 0.39639152\n",
      " 0.46072849 0.43382984 0.42561291 0.42566284 0.42860997 0.43752621\n",
      " 0.42016823 0.4124508  0.40558253 0.3968411  0.40538272 0.41951888\n",
      " 0.4106276  0.41275049 0.41929411 0.41302523 0.44212173 0.42591261\n",
      " 0.41000321 0.42373975 0.41752083 0.4161222  0.42261582 0.42084258\n",
      " 0.41637194 0.41257569 0.41315011 0.42049292 0.41934403 0.41012806\n",
      " 0.40231074 0.41886949 0.43180683 0.42066773 0.42346588 0.41970736\n",
      " 0.41624311 0.41329035 0.41145068 0.41084763 0.41121638 0.41207641\n",
      " 0.41292176 0.41337124 0.41325247 0.41260806 0.41163978 0.41061708\n",
      " 0.40978506 0.40929863 0.40919748 0.40941992 0.40984294 0.41032961\n",
      " 0.41076979 0.41110381 0.41132686 0.41147622 0.41160938 0.41178107\n",
      " 0.41202554 0.41234958 0.41273403 0.41314319 0.41353646 0.41387922\n",
      " 0.41415074 0.41434497 0.41446885 0.41453695 0.41456506 0.41456494\n",
      " 0.41454214 0.41449636 0.41442314 0.41431674 0.41417375 0.41399366\n",
      " 0.41378051 0.41354167 0.41328675 0.41302526]\n",
      "13day output\n",
      "14day input [0.40343463 0.38792482 0.40810505 0.41784552 0.40505803 0.41215111\n",
      " 0.40328479 0.37938319 0.3684689  0.36432295 0.35053645 0.34334353\n",
      " 0.33085577 0.3374243  0.38100662 0.40111189 0.39639152 0.46072849\n",
      " 0.43382984 0.42561291 0.42566284 0.42860997 0.43752621 0.42016823\n",
      " 0.4124508  0.40558253 0.3968411  0.40538272 0.41951888 0.4106276\n",
      " 0.41275049 0.41929411 0.41302523 0.44212173 0.42591261 0.41000321\n",
      " 0.42373975 0.41752083 0.4161222  0.42261582 0.42084258 0.41637194\n",
      " 0.41257569 0.41315011 0.42049292 0.41934403 0.41012806 0.40231074\n",
      " 0.41886949 0.43180683 0.42066773 0.42346588 0.41970736 0.41624311\n",
      " 0.41329035 0.41145068 0.41084763 0.41121638 0.41207641 0.41292176\n",
      " 0.41337124 0.41325247 0.41260806 0.41163978 0.41061708 0.40978506\n",
      " 0.40929863 0.40919748 0.40941992 0.40984294 0.41032961 0.41076979\n",
      " 0.41110381 0.41132686 0.41147622 0.41160938 0.41178107 0.41202554\n",
      " 0.41234958 0.41273403 0.41314319 0.41353646 0.41387922 0.41415074\n",
      " 0.41434497 0.41446885 0.41453695 0.41456506 0.41456494 0.41454214\n",
      " 0.41449636 0.41442314 0.41431674 0.41417375 0.41399366 0.41378051\n",
      " 0.41354167 0.41328675 0.41302526 0.41276601]\n",
      "14day output\n",
      "15day input [0.38792482 0.40810505 0.41784552 0.40505803 0.41215111 0.40328479\n",
      " 0.37938319 0.3684689  0.36432295 0.35053645 0.34334353 0.33085577\n",
      " 0.3374243  0.38100662 0.40111189 0.39639152 0.46072849 0.43382984\n",
      " 0.42561291 0.42566284 0.42860997 0.43752621 0.42016823 0.4124508\n",
      " 0.40558253 0.3968411  0.40538272 0.41951888 0.4106276  0.41275049\n",
      " 0.41929411 0.41302523 0.44212173 0.42591261 0.41000321 0.42373975\n",
      " 0.41752083 0.4161222  0.42261582 0.42084258 0.41637194 0.41257569\n",
      " 0.41315011 0.42049292 0.41934403 0.41012806 0.40231074 0.41886949\n",
      " 0.43180683 0.42066773 0.42346588 0.41970736 0.41624311 0.41329035\n",
      " 0.41145068 0.41084763 0.41121638 0.41207641 0.41292176 0.41337124\n",
      " 0.41325247 0.41260806 0.41163978 0.41061708 0.40978506 0.40929863\n",
      " 0.40919748 0.40941992 0.40984294 0.41032961 0.41076979 0.41110381\n",
      " 0.41132686 0.41147622 0.41160938 0.41178107 0.41202554 0.41234958\n",
      " 0.41273403 0.41314319 0.41353646 0.41387922 0.41415074 0.41434497\n",
      " 0.41446885 0.41453695 0.41456506 0.41456494 0.41454214 0.41449636\n",
      " 0.41442314 0.41431674 0.41417375 0.41399366 0.41378051 0.41354167\n",
      " 0.41328675 0.41302526 0.41276601 0.41251549]\n",
      "15day output\n",
      "16day input [0.40810505 0.41784552 0.40505803 0.41215111 0.40328479 0.37938319\n",
      " 0.3684689  0.36432295 0.35053645 0.34334353 0.33085577 0.3374243\n",
      " 0.38100662 0.40111189 0.39639152 0.46072849 0.43382984 0.42561291\n",
      " 0.42566284 0.42860997 0.43752621 0.42016823 0.4124508  0.40558253\n",
      " 0.3968411  0.40538272 0.41951888 0.4106276  0.41275049 0.41929411\n",
      " 0.41302523 0.44212173 0.42591261 0.41000321 0.42373975 0.41752083\n",
      " 0.4161222  0.42261582 0.42084258 0.41637194 0.41257569 0.41315011\n",
      " 0.42049292 0.41934403 0.41012806 0.40231074 0.41886949 0.43180683\n",
      " 0.42066773 0.42346588 0.41970736 0.41624311 0.41329035 0.41145068\n",
      " 0.41084763 0.41121638 0.41207641 0.41292176 0.41337124 0.41325247\n",
      " 0.41260806 0.41163978 0.41061708 0.40978506 0.40929863 0.40919748\n",
      " 0.40941992 0.40984294 0.41032961 0.41076979 0.41110381 0.41132686\n",
      " 0.41147622 0.41160938 0.41178107 0.41202554 0.41234958 0.41273403\n",
      " 0.41314319 0.41353646 0.41387922 0.41415074 0.41434497 0.41446885\n",
      " 0.41453695 0.41456506 0.41456494 0.41454214 0.41449636 0.41442314\n",
      " 0.41431674 0.41417375 0.41399366 0.41378051 0.41354167 0.41328675\n",
      " 0.41302526 0.41276601 0.41251549 0.41227794]\n",
      "16day output\n",
      "17day input [0.41784552 0.40505803 0.41215111 0.40328479 0.37938319 0.3684689\n",
      " 0.36432295 0.35053645 0.34334353 0.33085577 0.3374243  0.38100662\n",
      " 0.40111189 0.39639152 0.46072849 0.43382984 0.42561291 0.42566284\n",
      " 0.42860997 0.43752621 0.42016823 0.4124508  0.40558253 0.3968411\n",
      " 0.40538272 0.41951888 0.4106276  0.41275049 0.41929411 0.41302523\n",
      " 0.44212173 0.42591261 0.41000321 0.42373975 0.41752083 0.4161222\n",
      " 0.42261582 0.42084258 0.41637194 0.41257569 0.41315011 0.42049292\n",
      " 0.41934403 0.41012806 0.40231074 0.41886949 0.43180683 0.42066773\n",
      " 0.42346588 0.41970736 0.41624311 0.41329035 0.41145068 0.41084763\n",
      " 0.41121638 0.41207641 0.41292176 0.41337124 0.41325247 0.41260806\n",
      " 0.41163978 0.41061708 0.40978506 0.40929863 0.40919748 0.40941992\n",
      " 0.40984294 0.41032961 0.41076979 0.41110381 0.41132686 0.41147622\n",
      " 0.41160938 0.41178107 0.41202554 0.41234958 0.41273403 0.41314319\n",
      " 0.41353646 0.41387922 0.41415074 0.41434497 0.41446885 0.41453695\n",
      " 0.41456506 0.41456494 0.41454214 0.41449636 0.41442314 0.41431674\n",
      " 0.41417375 0.41399366 0.41378051 0.41354167 0.41328675 0.41302526\n",
      " 0.41276601 0.41251549 0.41227794 0.41205621]\n",
      "17day output\n",
      "18day input [0.40505803 0.41215111 0.40328479 0.37938319 0.3684689  0.36432295\n",
      " 0.35053645 0.34334353 0.33085577 0.3374243  0.38100662 0.40111189\n",
      " 0.39639152 0.46072849 0.43382984 0.42561291 0.42566284 0.42860997\n",
      " 0.43752621 0.42016823 0.4124508  0.40558253 0.3968411  0.40538272\n",
      " 0.41951888 0.4106276  0.41275049 0.41929411 0.41302523 0.44212173\n",
      " 0.42591261 0.41000321 0.42373975 0.41752083 0.4161222  0.42261582\n",
      " 0.42084258 0.41637194 0.41257569 0.41315011 0.42049292 0.41934403\n",
      " 0.41012806 0.40231074 0.41886949 0.43180683 0.42066773 0.42346588\n",
      " 0.41970736 0.41624311 0.41329035 0.41145068 0.41084763 0.41121638\n",
      " 0.41207641 0.41292176 0.41337124 0.41325247 0.41260806 0.41163978\n",
      " 0.41061708 0.40978506 0.40929863 0.40919748 0.40941992 0.40984294\n",
      " 0.41032961 0.41076979 0.41110381 0.41132686 0.41147622 0.41160938\n",
      " 0.41178107 0.41202554 0.41234958 0.41273403 0.41314319 0.41353646\n",
      " 0.41387922 0.41415074 0.41434497 0.41446885 0.41453695 0.41456506\n",
      " 0.41456494 0.41454214 0.41449636 0.41442314 0.41431674 0.41417375\n",
      " 0.41399366 0.41378051 0.41354167 0.41328675 0.41302526 0.41276601\n",
      " 0.41251549 0.41227794 0.41205621 0.41185176]\n",
      "18day output\n",
      "19day input [0.41215111 0.40328479 0.37938319 0.3684689  0.36432295 0.35053645\n",
      " 0.34334353 0.33085577 0.3374243  0.38100662 0.40111189 0.39639152\n",
      " 0.46072849 0.43382984 0.42561291 0.42566284 0.42860997 0.43752621\n",
      " 0.42016823 0.4124508  0.40558253 0.3968411  0.40538272 0.41951888\n",
      " 0.4106276  0.41275049 0.41929411 0.41302523 0.44212173 0.42591261\n",
      " 0.41000321 0.42373975 0.41752083 0.4161222  0.42261582 0.42084258\n",
      " 0.41637194 0.41257569 0.41315011 0.42049292 0.41934403 0.41012806\n",
      " 0.40231074 0.41886949 0.43180683 0.42066773 0.42346588 0.41970736\n",
      " 0.41624311 0.41329035 0.41145068 0.41084763 0.41121638 0.41207641\n",
      " 0.41292176 0.41337124 0.41325247 0.41260806 0.41163978 0.41061708\n",
      " 0.40978506 0.40929863 0.40919748 0.40941992 0.40984294 0.41032961\n",
      " 0.41076979 0.41110381 0.41132686 0.41147622 0.41160938 0.41178107\n",
      " 0.41202554 0.41234958 0.41273403 0.41314319 0.41353646 0.41387922\n",
      " 0.41415074 0.41434497 0.41446885 0.41453695 0.41456506 0.41456494\n",
      " 0.41454214 0.41449636 0.41442314 0.41431674 0.41417375 0.41399366\n",
      " 0.41378051 0.41354167 0.41328675 0.41302526 0.41276601 0.41251549\n",
      " 0.41227794 0.41205621 0.41185176 0.41166568]\n",
      "19day output\n",
      "20day input [0.40328479 0.37938319 0.3684689  0.36432295 0.35053645 0.34334353\n",
      " 0.33085577 0.3374243  0.38100662 0.40111189 0.39639152 0.46072849\n",
      " 0.43382984 0.42561291 0.42566284 0.42860997 0.43752621 0.42016823\n",
      " 0.4124508  0.40558253 0.3968411  0.40538272 0.41951888 0.4106276\n",
      " 0.41275049 0.41929411 0.41302523 0.44212173 0.42591261 0.41000321\n",
      " 0.42373975 0.41752083 0.4161222  0.42261582 0.42084258 0.41637194\n",
      " 0.41257569 0.41315011 0.42049292 0.41934403 0.41012806 0.40231074\n",
      " 0.41886949 0.43180683 0.42066773 0.42346588 0.41970736 0.41624311\n",
      " 0.41329035 0.41145068 0.41084763 0.41121638 0.41207641 0.41292176\n",
      " 0.41337124 0.41325247 0.41260806 0.41163978 0.41061708 0.40978506\n",
      " 0.40929863 0.40919748 0.40941992 0.40984294 0.41032961 0.41076979\n",
      " 0.41110381 0.41132686 0.41147622 0.41160938 0.41178107 0.41202554\n",
      " 0.41234958 0.41273403 0.41314319 0.41353646 0.41387922 0.41415074\n",
      " 0.41434497 0.41446885 0.41453695 0.41456506 0.41456494 0.41454214\n",
      " 0.41449636 0.41442314 0.41431674 0.41417375 0.41399366 0.41378051\n",
      " 0.41354167 0.41328675 0.41302526 0.41276601 0.41251549 0.41227794\n",
      " 0.41205621 0.41185176 0.41166568 0.41149968]\n",
      "20day output\n",
      "21day input [0.37938319 0.3684689  0.36432295 0.35053645 0.34334353 0.33085577\n",
      " 0.3374243  0.38100662 0.40111189 0.39639152 0.46072849 0.43382984\n",
      " 0.42561291 0.42566284 0.42860997 0.43752621 0.42016823 0.4124508\n",
      " 0.40558253 0.3968411  0.40538272 0.41951888 0.4106276  0.41275049\n",
      " 0.41929411 0.41302523 0.44212173 0.42591261 0.41000321 0.42373975\n",
      " 0.41752083 0.4161222  0.42261582 0.42084258 0.41637194 0.41257569\n",
      " 0.41315011 0.42049292 0.41934403 0.41012806 0.40231074 0.41886949\n",
      " 0.43180683 0.42066773 0.42346588 0.41970736 0.41624311 0.41329035\n",
      " 0.41145068 0.41084763 0.41121638 0.41207641 0.41292176 0.41337124\n",
      " 0.41325247 0.41260806 0.41163978 0.41061708 0.40978506 0.40929863\n",
      " 0.40919748 0.40941992 0.40984294 0.41032961 0.41076979 0.41110381\n",
      " 0.41132686 0.41147622 0.41160938 0.41178107 0.41202554 0.41234958\n",
      " 0.41273403 0.41314319 0.41353646 0.41387922 0.41415074 0.41434497\n",
      " 0.41446885 0.41453695 0.41456506 0.41456494 0.41454214 0.41449636\n",
      " 0.41442314 0.41431674 0.41417375 0.41399366 0.41378051 0.41354167\n",
      " 0.41328675 0.41302526 0.41276601 0.41251549 0.41227794 0.41205621\n",
      " 0.41185176 0.41166568 0.41149968 0.41135576]\n",
      "21day output\n",
      "22day input [0.3684689  0.36432295 0.35053645 0.34334353 0.33085577 0.3374243\n",
      " 0.38100662 0.40111189 0.39639152 0.46072849 0.43382984 0.42561291\n",
      " 0.42566284 0.42860997 0.43752621 0.42016823 0.4124508  0.40558253\n",
      " 0.3968411  0.40538272 0.41951888 0.4106276  0.41275049 0.41929411\n",
      " 0.41302523 0.44212173 0.42591261 0.41000321 0.42373975 0.41752083\n",
      " 0.4161222  0.42261582 0.42084258 0.41637194 0.41257569 0.41315011\n",
      " 0.42049292 0.41934403 0.41012806 0.40231074 0.41886949 0.43180683\n",
      " 0.42066773 0.42346588 0.41970736 0.41624311 0.41329035 0.41145068\n",
      " 0.41084763 0.41121638 0.41207641 0.41292176 0.41337124 0.41325247\n",
      " 0.41260806 0.41163978 0.41061708 0.40978506 0.40929863 0.40919748\n",
      " 0.40941992 0.40984294 0.41032961 0.41076979 0.41110381 0.41132686\n",
      " 0.41147622 0.41160938 0.41178107 0.41202554 0.41234958 0.41273403\n",
      " 0.41314319 0.41353646 0.41387922 0.41415074 0.41434497 0.41446885\n",
      " 0.41453695 0.41456506 0.41456494 0.41454214 0.41449636 0.41442314\n",
      " 0.41431674 0.41417375 0.41399366 0.41378051 0.41354167 0.41328675\n",
      " 0.41302526 0.41276601 0.41251549 0.41227794 0.41205621 0.41185176\n",
      " 0.41166568 0.41149968 0.41135576 0.41123602]\n",
      "22day output\n",
      "23day input [0.36432295 0.35053645 0.34334353 0.33085577 0.3374243  0.38100662\n",
      " 0.40111189 0.39639152 0.46072849 0.43382984 0.42561291 0.42566284\n",
      " 0.42860997 0.43752621 0.42016823 0.4124508  0.40558253 0.3968411\n",
      " 0.40538272 0.41951888 0.4106276  0.41275049 0.41929411 0.41302523\n",
      " 0.44212173 0.42591261 0.41000321 0.42373975 0.41752083 0.4161222\n",
      " 0.42261582 0.42084258 0.41637194 0.41257569 0.41315011 0.42049292\n",
      " 0.41934403 0.41012806 0.40231074 0.41886949 0.43180683 0.42066773\n",
      " 0.42346588 0.41970736 0.41624311 0.41329035 0.41145068 0.41084763\n",
      " 0.41121638 0.41207641 0.41292176 0.41337124 0.41325247 0.41260806\n",
      " 0.41163978 0.41061708 0.40978506 0.40929863 0.40919748 0.40941992\n",
      " 0.40984294 0.41032961 0.41076979 0.41110381 0.41132686 0.41147622\n",
      " 0.41160938 0.41178107 0.41202554 0.41234958 0.41273403 0.41314319\n",
      " 0.41353646 0.41387922 0.41415074 0.41434497 0.41446885 0.41453695\n",
      " 0.41456506 0.41456494 0.41454214 0.41449636 0.41442314 0.41431674\n",
      " 0.41417375 0.41399366 0.41378051 0.41354167 0.41328675 0.41302526\n",
      " 0.41276601 0.41251549 0.41227794 0.41205621 0.41185176 0.41166568\n",
      " 0.41149968 0.41135576 0.41123602 0.411143  ]\n",
      "23day output\n",
      "24day input [0.35053645 0.34334353 0.33085577 0.3374243  0.38100662 0.40111189\n",
      " 0.39639152 0.46072849 0.43382984 0.42561291 0.42566284 0.42860997\n",
      " 0.43752621 0.42016823 0.4124508  0.40558253 0.3968411  0.40538272\n",
      " 0.41951888 0.4106276  0.41275049 0.41929411 0.41302523 0.44212173\n",
      " 0.42591261 0.41000321 0.42373975 0.41752083 0.4161222  0.42261582\n",
      " 0.42084258 0.41637194 0.41257569 0.41315011 0.42049292 0.41934403\n",
      " 0.41012806 0.40231074 0.41886949 0.43180683 0.42066773 0.42346588\n",
      " 0.41970736 0.41624311 0.41329035 0.41145068 0.41084763 0.41121638\n",
      " 0.41207641 0.41292176 0.41337124 0.41325247 0.41260806 0.41163978\n",
      " 0.41061708 0.40978506 0.40929863 0.40919748 0.40941992 0.40984294\n",
      " 0.41032961 0.41076979 0.41110381 0.41132686 0.41147622 0.41160938\n",
      " 0.41178107 0.41202554 0.41234958 0.41273403 0.41314319 0.41353646\n",
      " 0.41387922 0.41415074 0.41434497 0.41446885 0.41453695 0.41456506\n",
      " 0.41456494 0.41454214 0.41449636 0.41442314 0.41431674 0.41417375\n",
      " 0.41399366 0.41378051 0.41354167 0.41328675 0.41302526 0.41276601\n",
      " 0.41251549 0.41227794 0.41205621 0.41185176 0.41166568 0.41149968\n",
      " 0.41135576 0.41123602 0.411143   0.41107839]\n",
      "24day output\n",
      "25day input [0.34334353 0.33085577 0.3374243  0.38100662 0.40111189 0.39639152\n",
      " 0.46072849 0.43382984 0.42561291 0.42566284 0.42860997 0.43752621\n",
      " 0.42016823 0.4124508  0.40558253 0.3968411  0.40538272 0.41951888\n",
      " 0.4106276  0.41275049 0.41929411 0.41302523 0.44212173 0.42591261\n",
      " 0.41000321 0.42373975 0.41752083 0.4161222  0.42261582 0.42084258\n",
      " 0.41637194 0.41257569 0.41315011 0.42049292 0.41934403 0.41012806\n",
      " 0.40231074 0.41886949 0.43180683 0.42066773 0.42346588 0.41970736\n",
      " 0.41624311 0.41329035 0.41145068 0.41084763 0.41121638 0.41207641\n",
      " 0.41292176 0.41337124 0.41325247 0.41260806 0.41163978 0.41061708\n",
      " 0.40978506 0.40929863 0.40919748 0.40941992 0.40984294 0.41032961\n",
      " 0.41076979 0.41110381 0.41132686 0.41147622 0.41160938 0.41178107\n",
      " 0.41202554 0.41234958 0.41273403 0.41314319 0.41353646 0.41387922\n",
      " 0.41415074 0.41434497 0.41446885 0.41453695 0.41456506 0.41456494\n",
      " 0.41454214 0.41449636 0.41442314 0.41431674 0.41417375 0.41399366\n",
      " 0.41378051 0.41354167 0.41328675 0.41302526 0.41276601 0.41251549\n",
      " 0.41227794 0.41205621 0.41185176 0.41166568 0.41149968 0.41135576\n",
      " 0.41123602 0.411143   0.41107839 0.41104311]\n",
      "25day output\n",
      "26day input [0.33085577 0.3374243  0.38100662 0.40111189 0.39639152 0.46072849\n",
      " 0.43382984 0.42561291 0.42566284 0.42860997 0.43752621 0.42016823\n",
      " 0.4124508  0.40558253 0.3968411  0.40538272 0.41951888 0.4106276\n",
      " 0.41275049 0.41929411 0.41302523 0.44212173 0.42591261 0.41000321\n",
      " 0.42373975 0.41752083 0.4161222  0.42261582 0.42084258 0.41637194\n",
      " 0.41257569 0.41315011 0.42049292 0.41934403 0.41012806 0.40231074\n",
      " 0.41886949 0.43180683 0.42066773 0.42346588 0.41970736 0.41624311\n",
      " 0.41329035 0.41145068 0.41084763 0.41121638 0.41207641 0.41292176\n",
      " 0.41337124 0.41325247 0.41260806 0.41163978 0.41061708 0.40978506\n",
      " 0.40929863 0.40919748 0.40941992 0.40984294 0.41032961 0.41076979\n",
      " 0.41110381 0.41132686 0.41147622 0.41160938 0.41178107 0.41202554\n",
      " 0.41234958 0.41273403 0.41314319 0.41353646 0.41387922 0.41415074\n",
      " 0.41434497 0.41446885 0.41453695 0.41456506 0.41456494 0.41454214\n",
      " 0.41449636 0.41442314 0.41431674 0.41417375 0.41399366 0.41378051\n",
      " 0.41354167 0.41328675 0.41302526 0.41276601 0.41251549 0.41227794\n",
      " 0.41205621 0.41185176 0.41166568 0.41149968 0.41135576 0.41123602\n",
      " 0.411143   0.41107839 0.41104311 0.41103685]\n",
      "26day output\n",
      "27day input [0.3374243  0.38100662 0.40111189 0.39639152 0.46072849 0.43382984\n",
      " 0.42561291 0.42566284 0.42860997 0.43752621 0.42016823 0.4124508\n",
      " 0.40558253 0.3968411  0.40538272 0.41951888 0.4106276  0.41275049\n",
      " 0.41929411 0.41302523 0.44212173 0.42591261 0.41000321 0.42373975\n",
      " 0.41752083 0.4161222  0.42261582 0.42084258 0.41637194 0.41257569\n",
      " 0.41315011 0.42049292 0.41934403 0.41012806 0.40231074 0.41886949\n",
      " 0.43180683 0.42066773 0.42346588 0.41970736 0.41624311 0.41329035\n",
      " 0.41145068 0.41084763 0.41121638 0.41207641 0.41292176 0.41337124\n",
      " 0.41325247 0.41260806 0.41163978 0.41061708 0.40978506 0.40929863\n",
      " 0.40919748 0.40941992 0.40984294 0.41032961 0.41076979 0.41110381\n",
      " 0.41132686 0.41147622 0.41160938 0.41178107 0.41202554 0.41234958\n",
      " 0.41273403 0.41314319 0.41353646 0.41387922 0.41415074 0.41434497\n",
      " 0.41446885 0.41453695 0.41456506 0.41456494 0.41454214 0.41449636\n",
      " 0.41442314 0.41431674 0.41417375 0.41399366 0.41378051 0.41354167\n",
      " 0.41328675 0.41302526 0.41276601 0.41251549 0.41227794 0.41205621\n",
      " 0.41185176 0.41166568 0.41149968 0.41135576 0.41123602 0.411143\n",
      " 0.41107839 0.41104311 0.41103685 0.41105822]\n",
      "27day output\n",
      "28day input [0.38100662 0.40111189 0.39639152 0.46072849 0.43382984 0.42561291\n",
      " 0.42566284 0.42860997 0.43752621 0.42016823 0.4124508  0.40558253\n",
      " 0.3968411  0.40538272 0.41951888 0.4106276  0.41275049 0.41929411\n",
      " 0.41302523 0.44212173 0.42591261 0.41000321 0.42373975 0.41752083\n",
      " 0.4161222  0.42261582 0.42084258 0.41637194 0.41257569 0.41315011\n",
      " 0.42049292 0.41934403 0.41012806 0.40231074 0.41886949 0.43180683\n",
      " 0.42066773 0.42346588 0.41970736 0.41624311 0.41329035 0.41145068\n",
      " 0.41084763 0.41121638 0.41207641 0.41292176 0.41337124 0.41325247\n",
      " 0.41260806 0.41163978 0.41061708 0.40978506 0.40929863 0.40919748\n",
      " 0.40941992 0.40984294 0.41032961 0.41076979 0.41110381 0.41132686\n",
      " 0.41147622 0.41160938 0.41178107 0.41202554 0.41234958 0.41273403\n",
      " 0.41314319 0.41353646 0.41387922 0.41415074 0.41434497 0.41446885\n",
      " 0.41453695 0.41456506 0.41456494 0.41454214 0.41449636 0.41442314\n",
      " 0.41431674 0.41417375 0.41399366 0.41378051 0.41354167 0.41328675\n",
      " 0.41302526 0.41276601 0.41251549 0.41227794 0.41205621 0.41185176\n",
      " 0.41166568 0.41149968 0.41135576 0.41123602 0.411143   0.41107839\n",
      " 0.41104311 0.41103685 0.41105822 0.4111053 ]\n",
      "28day output\n",
      "29day input [0.40111189 0.39639152 0.46072849 0.43382984 0.42561291 0.42566284\n",
      " 0.42860997 0.43752621 0.42016823 0.4124508  0.40558253 0.3968411\n",
      " 0.40538272 0.41951888 0.4106276  0.41275049 0.41929411 0.41302523\n",
      " 0.44212173 0.42591261 0.41000321 0.42373975 0.41752083 0.4161222\n",
      " 0.42261582 0.42084258 0.41637194 0.41257569 0.41315011 0.42049292\n",
      " 0.41934403 0.41012806 0.40231074 0.41886949 0.43180683 0.42066773\n",
      " 0.42346588 0.41970736 0.41624311 0.41329035 0.41145068 0.41084763\n",
      " 0.41121638 0.41207641 0.41292176 0.41337124 0.41325247 0.41260806\n",
      " 0.41163978 0.41061708 0.40978506 0.40929863 0.40919748 0.40941992\n",
      " 0.40984294 0.41032961 0.41076979 0.41110381 0.41132686 0.41147622\n",
      " 0.41160938 0.41178107 0.41202554 0.41234958 0.41273403 0.41314319\n",
      " 0.41353646 0.41387922 0.41415074 0.41434497 0.41446885 0.41453695\n",
      " 0.41456506 0.41456494 0.41454214 0.41449636 0.41442314 0.41431674\n",
      " 0.41417375 0.41399366 0.41378051 0.41354167 0.41328675 0.41302526\n",
      " 0.41276601 0.41251549 0.41227794 0.41205621 0.41185176 0.41166568\n",
      " 0.41149968 0.41135576 0.41123602 0.411143   0.41107839 0.41104311\n",
      " 0.41103685 0.41105822 0.4111053  0.41117501]\n",
      "29day output\n"
     ]
    }
   ],
   "source": [
    "#prediction for 30days\n",
    "from numpy import array\n",
    "\n",
    "list_output=[]\n",
    "n_steps = 100\n",
    "i = 0\n",
    "while(i<30):\n",
    "    if(len(temp_input)>100):\n",
    "        x_input = np.array(temp_input[1:])\n",
    "        print(\"{}day input {}\".format(i,x_input))\n",
    "        x_input = x_input.reshape(1,-1)\n",
    "        x_input = x_input.reshape((1, n_steps,1))\n",
    "        yhat = model.predict(x_input,verbose = 0)\n",
    "        print(\"{}day output\".format(i,yhat))\n",
    "        temp_input.extend(yhat[0].tolist())\n",
    "        temp_input = temp_input[1:]\n",
    "        list_output.extend(yhat.tolist())\n",
    "        i=i+1\n",
    "    else:\n",
    "        x_input = x_input.reshape((1,n_steps,1))\n",
    "        yhat = model.predict(x_input, verbose=0)\n",
    "        print(yhat[0])\n",
    "        temp_input.extend(yhat[0].tolist())\n",
    "        print(len(temp_input))\n",
    "        list_output.extended(yhat.tolist())\n",
    "        i=i+1\n",
    "        \n",
    "        print(lst_output)"
   ]
  },
  {
   "cell_type": "code",
   "execution_count": 54,
   "id": "a8ee1ac3",
   "metadata": {},
   "outputs": [],
   "source": [
    "day_new= np.arange(1,101)\n",
    "day_pred=np.arange(101,131)"
   ]
  },
  {
   "cell_type": "code",
   "execution_count": 55,
   "id": "ebf22a80",
   "metadata": {},
   "outputs": [],
   "source": [
    "import matplotlib.pyplot as plt"
   ]
  },
  {
   "cell_type": "code",
   "execution_count": 56,
   "id": "5021f94e",
   "metadata": {},
   "outputs": [
    {
     "data": {
      "text/plain": [
       "2517"
      ]
     },
     "execution_count": 56,
     "metadata": {},
     "output_type": "execute_result"
    }
   ],
   "source": [
    "len(tesla1)"
   ]
  },
  {
   "cell_type": "code",
   "execution_count": 57,
   "id": "46279f35",
   "metadata": {},
   "outputs": [],
   "source": [
    "newtesla = tesla1.tolist()\n",
    "newtesla.extend(list_output)"
   ]
  },
  {
   "cell_type": "code",
   "execution_count": 64,
   "id": "92a24666",
   "metadata": {},
   "outputs": [
    {
     "data": {
      "text/plain": [
       "2547"
      ]
     },
     "execution_count": 64,
     "metadata": {},
     "output_type": "execute_result"
    }
   ],
   "source": [
    "len(newtesla)"
   ]
  },
  {
   "cell_type": "code",
   "execution_count": 68,
   "id": "a0a4fef8",
   "metadata": {},
   "outputs": [
    {
     "data": {
      "text/plain": [
       "[<matplotlib.lines.Line2D at 0x29035cf6d90>]"
      ]
     },
     "execution_count": 68,
     "metadata": {},
     "output_type": "execute_result"
    },
    {
     "data": {
      "image/png": "[encoded data removed]",
      "text/plain": [
       "<Figure size 640x480 with 1 Axes>"
      ]
     },
     "metadata": {},
     "output_type": "display_data"
    }
   ],
   "source": [
    "plt.plot(day_new, scaler.inverse_transform(tesla1[2417:]))\n",
    "plt.plot(day_pred,scaler.inverse_transform(list_output))"
   ]
  },
  {
   "cell_type": "code",
   "execution_count": 73,
   "id": "214f032a",
   "metadata": {},
   "outputs": [
    {
     "data": {
      "text/plain": [
       "[<matplotlib.lines.Line2D at 0x29033efb050>]"
      ]
     },
     "execution_count": 73,
     "metadata": {},
     "output_type": "execute_result"
    },
    {
     "data": {
      "image/png": "[encoded data removed]",
      "text/plain": [
       "<Figure size 640x480 with 1 Axes>"
      ]
     },
     "metadata": {},
     "output_type": "display_data"
    }
   ],
   "source": [
    "newtesla=tesla1.tolist()\n",
    "newtesla.extend(list_output)\n",
    "plt.plot(newtesla[1400:])"
   ]
  },
  {
   "cell_type": "code",
   "execution_count": null,
   "id": "47cf5418",
   "metadata": {},
   "outputs": [],
   "source": []
  }
 ],
 "metadata": {
  "kernelspec": {
   "display_name": "Python 3 (ipykernel)",
   "language": "python",
   "name": "python3"
  },
  "language_info": {
   "codemirror_mode": {
    "name": "ipython",
    "version": 3
   },
   "file_extension": ".py",
   "mimetype": "text/x-python",
   "name": "python",
   "nbconvert_exporter": "python",
   "pygments_lexer": "ipython3",
   "version": "3.11.5"
  }
 },
 "nbformat": 4,
 "nbformat_minor": 5
}
